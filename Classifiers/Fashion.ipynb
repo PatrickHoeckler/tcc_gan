{
 "cells": [
  {
   "cell_type": "markdown",
   "id": "98fbf699",
   "metadata": {},
   "source": [
    "## Setup"
   ]
  },
  {
   "cell_type": "code",
   "execution_count": null,
   "id": "dcb7f1a4",
   "metadata": {},
   "outputs": [],
   "source": [
    "import tensorflow as tf\n",
    "import numpy as np\n",
    "import os, sys\n",
    "\n",
    "sys.path.append( os.path.abspath('..') )\n",
    "import utils"
   ]
  },
  {
   "cell_type": "code",
   "execution_count": null,
   "id": "67a7e775",
   "metadata": {},
   "outputs": [],
   "source": [
    "(x_train, y_train), (x_test, y_test) = tf.keras.datasets.fashion_mnist.load_data()"
   ]
  },
  {
   "cell_type": "code",
   "execution_count": null,
   "id": "c8127c28",
   "metadata": {},
   "outputs": [],
   "source": [
    "x_train = (x_train.astype('float32') - 127.5) / 127.5\n",
    "x_test = (x_test.astype('float32') - 127.5) / 127.5\n",
    "x_train = np.expand_dims(x_train, -1)\n",
    "x_test = np.expand_dims(x_test, -1)"
   ]
  },
  {
   "cell_type": "markdown",
   "id": "085b594c",
   "metadata": {},
   "source": [
    "## Classifier Model"
   ]
  },
  {
   "cell_type": "markdown",
   "id": "0258db12",
   "metadata": {},
   "source": [
    "The model is inspired in the Inception architecture from the paper [Going Deeper with Convolutions](https://arxiv.org/abs/1409.4842)."
   ]
  },
  {
   "cell_type": "code",
   "execution_count": null,
   "id": "27a759d2",
   "metadata": {},
   "outputs": [],
   "source": [
    "model = tf.keras.Sequential([\n",
    "    tf.keras.layers.InputLayer(input_shape=(28, 28, 1), name='input'),\n",
    "    \n",
    "    tf.keras.layers.Conv2D(filters=64, kernel_size=5, strides=2, padding='same', name='conv2d_0'),\n",
    "    tf.keras.layers.LeakyReLU(0.2, name='leaky_relu_0'),\n",
    "    tf.keras.layers.Dropout(0.5, name='dropout_0'),\n",
    "    tf.keras.layers.BatchNormalization(name='batchnorm_0'),\n",
    "    \n",
    "    tf.keras.layers.Conv2D(filters=128, kernel_size=5, strides=2, padding='same', name='conv2d_1'),\n",
    "    tf.keras.layers.LeakyReLU(0.2, name='leaky_relu_1'),\n",
    "    tf.keras.layers.Dropout(0.5, name='dropout_1'),\n",
    "    tf.keras.layers.BatchNormalization(name='batchnorm_1'),\n",
    "    \n",
    "    tf.keras.layers.Conv2D(filters=256, kernel_size=5, strides=1, padding='same', name='conv2d_2'),\n",
    "    tf.keras.layers.LeakyReLU(0.2, name='leaky_relu_2'),\n",
    "    tf.keras.layers.Dropout(0.5, name='dropout_2'),\n",
    "    tf.keras.layers.BatchNormalization(name='batchnorm_2'),\n",
    "    \n",
    "    tf.keras.layers.GlobalAvgPool2D(name='features'),\n",
    "    tf.keras.layers.Dense(10, name='logits')\n",
    "], name='fashion_classifier')"
   ]
  },
  {
   "cell_type": "code",
   "execution_count": null,
   "id": "421bbace",
   "metadata": {},
   "outputs": [],
   "source": [
    "model.compile(\n",
    "    optimizer='adam',\n",
    "    loss=tf.keras.losses.SparseCategoricalCrossentropy(from_logits=True),\n",
    "    metrics=['accuracy']\n",
    ")"
   ]
  },
  {
   "cell_type": "code",
   "execution_count": null,
   "id": "6a00e2a4",
   "metadata": {
    "scrolled": true
   },
   "outputs": [],
   "source": [
    "model.summary()"
   ]
  },
  {
   "cell_type": "markdown",
   "id": "d035f929",
   "metadata": {},
   "source": [
    "## Training"
   ]
  },
  {
   "cell_type": "markdown",
   "id": "a4775e56",
   "metadata": {},
   "source": [
    "The model is trained for 40 epochs and the one which achieved the best accuracy is saved and later used to evaluate the *Classifier Score* (CS) and *Fréchet Classifier Distance* (FCS) of the GAN models."
   ]
  },
  {
   "cell_type": "code",
   "execution_count": null,
   "id": "e6c6f18d",
   "metadata": {},
   "outputs": [],
   "source": [
    "hist = model.fit(\n",
    "    x_train, y_train, epochs=40, batch_size=32,\n",
    "    validation_data=(x_test, y_test),\n",
    "    callbacks=[\n",
    "        utils.callback.SaveIfBestCallback(filename='fashion.h5', save_after=5)\n",
    "    ]\n",
    ")"
   ]
  },
  {
   "cell_type": "code",
   "execution_count": null,
   "id": "3078065c",
   "metadata": {
    "scrolled": true
   },
   "outputs": [],
   "source": [
    "print('Best model accuracy: {:.2f}'.format(100 * max(hist.history['val_accuracy'])))"
   ]
  },
  {
   "cell_type": "markdown",
   "id": "3fd8bd40",
   "metadata": {},
   "source": [
    "Execute this last cell to load the model and calculate it's accuracy. It should be the same as the cell above.\n",
    "It seems like tensorflow has some problem when calculating the accuracy from the loaded models in this case, so it is necessary to explicity compile it to measure the *sparse_categorical_accuracy*."
   ]
  },
  {
   "cell_type": "code",
   "execution_count": null,
   "id": "d1413199",
   "metadata": {},
   "outputs": [],
   "source": [
    "loaded = tf.keras.models.load_model('fashion.h5', compile=False)\n",
    "loaded.compile(metrics=['sparse_categorical_accuracy'])\n",
    "loaded.evaluate(x_test, y_test)"
   ]
  }
 ],
 "metadata": {
  "kernelspec": {
   "display_name": "Python 3",
   "language": "python",
   "name": "python3"
  },
  "language_info": {
   "codemirror_mode": {
    "name": "ipython",
    "version": 3
   },
   "file_extension": ".py",
   "mimetype": "text/x-python",
   "name": "python",
   "nbconvert_exporter": "python",
   "pygments_lexer": "ipython3",
   "version": "3.7.10"
  }
 },
 "nbformat": 4,
 "nbformat_minor": 5
}
