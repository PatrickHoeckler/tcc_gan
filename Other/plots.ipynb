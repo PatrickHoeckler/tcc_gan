{
 "cells": [
  {
   "cell_type": "markdown",
   "metadata": {},
   "source": [
    "## Setup"
   ]
  },
  {
   "cell_type": "code",
   "execution_count": null,
   "metadata": {},
   "outputs": [],
   "source": [
    "%matplotlib qt\n",
    "import matplotlib.pyplot as plt\n",
    "import numpy as np\n",
    "from pathlib import Path\n",
    "import os"
   ]
  },
  {
   "cell_type": "code",
   "execution_count": null,
   "metadata": {},
   "outputs": [],
   "source": [
    "Path('Plots').mkdir(exist_ok=True)\n",
    "os.chdir('Plots')"
   ]
  },
  {
   "cell_type": "markdown",
   "metadata": {},
   "source": [
    "## 1 Activation Functions"
   ]
  },
  {
   "cell_type": "markdown",
   "metadata": {},
   "source": [
    "### 1.1 Activation"
   ]
  },
  {
   "cell_type": "code",
   "execution_count": null,
   "metadata": {},
   "outputs": [],
   "source": [
    "x = np.linspace(-3.0, 3.0, 300)\n",
    "y_relu = np.maximum(0, x)\n",
    "y_tanh = np.tanh(x)\n",
    "y_sigm = 1 / (1 + np.exp(-x))"
   ]
  },
  {
   "cell_type": "code",
   "execution_count": null,
   "metadata": {},
   "outputs": [],
   "source": [
    "fig = plt.figure()\n",
    "plt.plot(x, y_relu, label=r'$ReLU(x)$')\n",
    "plt.plot(x, y_tanh, label=r'$tanh(x)$')\n",
    "plt.plot(x, y_sigm, label=r'$\\sigma(x)$')\n",
    "\n",
    "plt.grid()\n",
    "plt.xlabel('x')\n",
    "plt.ylabel('Activation')\n",
    "plt.legend(loc='upper left', framealpha=1.0)\n",
    "\n",
    "fig.savefig('Activations.pdf', bbox_inches='tight', pad_inches=0.25)"
   ]
  },
  {
   "cell_type": "markdown",
   "metadata": {},
   "source": [
    "### 1.2 Derivatives"
   ]
  },
  {
   "cell_type": "code",
   "execution_count": null,
   "metadata": {},
   "outputs": [],
   "source": [
    "x = np.linspace(-5.0, 5.0, 500)\n",
    "dy_relu = np.heaviside(x, 0)\n",
    "dy_tanh = 1 / np.cosh(x)**2\n",
    "dy_sigm = np.exp(-x) / (1 + np.exp(-x))**2"
   ]
  },
  {
   "cell_type": "code",
   "execution_count": null,
   "metadata": {},
   "outputs": [],
   "source": [
    "fig = plt.figure()\n",
    "plt.plot(x, dy_relu, label=r'$\\frac{d}{dx}ReLU(x)$')\n",
    "plt.plot(x, dy_tanh, label=r'$\\frac{d}{dx}tanh(x)$')\n",
    "plt.plot(x, dy_sigm, label=r'$\\frac{d}{dx}\\sigma(x)$')\n",
    "\n",
    "plt.grid()\n",
    "plt.xlabel('x')\n",
    "plt.ylabel('Derivative')\n",
    "plt.xticks(range(-5, 6))\n",
    "plt.legend(loc='upper left', framealpha=1.0)\n",
    "\n",
    "fig.savefig('Derivatives.pdf', bbox_inches='tight', pad_inches=0.25)"
   ]
  },
  {
   "cell_type": "markdown",
   "metadata": {},
   "source": [
    "## 2 Gradient Descent"
   ]
  },
  {
   "cell_type": "code",
   "execution_count": null,
   "metadata": {},
   "outputs": [],
   "source": [
    "x = np.linspace(-3.0, 3.0, 100);\n",
    "y = x**2;"
   ]
  },
  {
   "cell_type": "code",
   "execution_count": null,
   "metadata": {},
   "outputs": [],
   "source": [
    "fig = plt.figure()\n",
    "plt.plot(x, y, label=r'$\\mathsf{J}(\\theta)$')\n",
    "plt.plot([-3, -1], [8, 0], 'orange', label=r'$\\frac{d}{d\\theta} \\mathsf{J}(\\theta)$')\n",
    "plt.plot(-2.0, 4.0, 'orange', marker='o')\n",
    "\n",
    "plt.xticks([])\n",
    "plt.yticks([])\n",
    "plt.xlabel(r'$\\theta$')\n",
    "plt.ylabel(r'$\\mathsf{J}(\\theta)$')\n",
    "plt.legend(loc='upper left', framealpha=1.0)\n",
    "fig.savefig('1D-Loss.pdf', bbox_inches='tight')"
   ]
  },
  {
   "cell_type": "markdown",
   "metadata": {},
   "source": [
    "### 2.1 Weight updates"
   ]
  },
  {
   "cell_type": "code",
   "execution_count": null,
   "metadata": {},
   "outputs": [],
   "source": [
    "def create_update_path(eta, x0, N):\n",
    "    path_x = np.zeros(N)\n",
    "    path_y = np.zeros(N)\n",
    "    path_x[0] = x0\n",
    "    path_y[0] = x0**2\n",
    "    for i in range(N-1):\n",
    "        dy = 2 * path_x[i]\n",
    "        path_x[i+1] = path_x[i] - eta * dy\n",
    "        path_y[i+1] = path_x[i+1]**2\n",
    "    return path_x, path_y"
   ]
  },
  {
   "cell_type": "code",
   "execution_count": null,
   "metadata": {
    "scrolled": true
   },
   "outputs": [],
   "source": [
    "x0 = -2\n",
    "fig = plt.figure()\n",
    "plt.plot(x, y, '#1f77b4')\n",
    "\n",
    "### Unstable learning rate\n",
    "path_x, path_y = create_update_path(1.04, x0, 6)\n",
    "plt.plot(path_x, path_y, 'crimson', linewidth=0.5, label=r'$\\eta \\gg \\eta_{crit}$')\n",
    "\n",
    "\n",
    "## High learning rate\n",
    "path_x, path_y = create_update_path(0.85, x0, 10)\n",
    "plt.plot(path_x, path_y, 'purple', linewidth=0.5, label=r'$\\eta > \\eta_{crit}$')\n",
    "\n",
    "### Critical learning rate\n",
    "path_x, path_y = create_update_path(0.5, x0, 2)\n",
    "plt.plot(path_x, path_y, 'green', linewidth=0.5, label=r'$\\eta = \\eta_{crit}$')\n",
    "\n",
    "### Low learning rate\n",
    "path_x, path_y = create_update_path(0.2, x0, 10)\n",
    "plt.plot(path_x, path_y, 'orange', linewidth=1, label=r'$\\eta < \\eta_{crit}$')\n",
    "\n",
    "plt.xticks([])\n",
    "plt.yticks([])\n",
    "plt.xlabel(r'$\\theta$')\n",
    "plt.ylabel(r'$\\mathsf{J}(\\theta)$')\n",
    "plt.legend(loc='upper left', framealpha=1.0)\n",
    "fig.savefig('1D-Weight-Update.pdf', bbox_inches='tight')"
   ]
  },
  {
   "cell_type": "markdown",
   "metadata": {},
   "source": [
    "## 3 Overfitting"
   ]
  },
  {
   "cell_type": "code",
   "execution_count": null,
   "metadata": {},
   "outputs": [],
   "source": [
    "SEED = 279923  # https://youtu.be/nWSFlqBOgl8?t=86  -  I love this song\n",
    "np.random.seed(SEED + 2)\n",
    "\n",
    "N = 20\n",
    "x_sample = np.linspace(0, 1, 20)\n",
    "y_sample = 0.6*x_sample**2 + 0.2 + (1 + x_sample) * 0.1 * np.random.rand(20)"
   ]
  },
  {
   "cell_type": "code",
   "execution_count": null,
   "metadata": {},
   "outputs": [],
   "source": [
    "# fit polynomials\n",
    "p_underfit = np.polyfit(x_sample, y_sample, 1)\n",
    "p_good     = np.polyfit(x_sample, y_sample, 2)\n",
    "p_overfit  = np.polyfit(x_sample, y_sample, 14)\n",
    "\n",
    "# evaluate polynomials\n",
    "x = np.linspace(0, 1, 400)\n",
    "y_underfit = np.polyval(p_underfit, x)\n",
    "y_good     = np.polyval(p_good    , x)\n",
    "y_overfit  = np.polyval(p_overfit , x)"
   ]
  },
  {
   "cell_type": "code",
   "execution_count": null,
   "metadata": {},
   "outputs": [],
   "source": [
    "def plot_fit(x, y, i):\n",
    "    label = ['Underfit', 'Good fit', 'Overfit'][i - 1]\n",
    "    plt.subplot(1, 3, i)\n",
    "    plt.title(label)\n",
    "    plt.plot(x_sample, y_sample, 'o', markersize=3)\n",
    "    plt.plot(x, y, linewidth=1)\n",
    "    plt.xticks([])\n",
    "    plt.yticks([])"
   ]
  },
  {
   "cell_type": "code",
   "execution_count": null,
   "metadata": {},
   "outputs": [],
   "source": [
    "fig = plt.figure(figsize=(12, 4))\n",
    "plot_fit(x, y_underfit, 1)\n",
    "plot_fit(x, y_good, 2)\n",
    "plot_fit(x, y_overfit, 3)\n",
    "fig.savefig('fitting.pdf', bbox_inches='tight')"
   ]
  }
 ],
 "metadata": {
  "kernelspec": {
   "display_name": "Python 3",
   "language": "python",
   "name": "python3"
  },
  "language_info": {
   "codemirror_mode": {
    "name": "ipython",
    "version": 3
   },
   "file_extension": ".py",
   "mimetype": "text/x-python",
   "name": "python",
   "nbconvert_exporter": "python",
   "pygments_lexer": "ipython3",
   "version": "3.7.10"
  }
 },
 "nbformat": 4,
 "nbformat_minor": 4
}
