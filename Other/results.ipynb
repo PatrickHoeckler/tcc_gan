{
 "cells": [
  {
   "cell_type": "markdown",
   "id": "c3c34b9a",
   "metadata": {},
   "source": [
    "## Setup"
   ]
  },
  {
   "cell_type": "code",
   "execution_count": null,
   "id": "7dda7d8f",
   "metadata": {},
   "outputs": [],
   "source": [
    "%matplotlib qt\n",
    "import tensorflow as tf\n",
    "import matplotlib.pyplot as plt\n",
    "import numpy as np\n",
    "from pathlib import Path\n",
    "import os\n",
    "import json"
   ]
  },
  {
   "cell_type": "code",
   "execution_count": null,
   "id": "a9fe16a8",
   "metadata": {},
   "outputs": [],
   "source": [
    "Path('Results').mkdir(exist_ok=True)\n",
    "os.chdir('Results')"
   ]
  },
  {
   "cell_type": "code",
   "execution_count": null,
   "id": "1d2462c6",
   "metadata": {},
   "outputs": [],
   "source": [
    "colors = [\n",
    "    '#1f77b4',\n",
    "    '#ff7f0e',\n",
    "    '#2ca02c',\n",
    "    '#d62728',\n",
    "    '#9467bd',\n",
    "    '#8c564b',\n",
    "    '#e377c2',\n",
    "    '#7f7f7f',\n",
    "    '#bcbd22',\n",
    "    '#17becf',\n",
    "    '#1f77b4',\n",
    "    '#ff7f0e'\n",
    "]"
   ]
  },
  {
   "cell_type": "code",
   "execution_count": null,
   "id": "61812f95",
   "metadata": {},
   "outputs": [],
   "source": [
    "top_folder = os.path.abspath(os.path.join('..', '..'))\n",
    "gan_folder = os.path.join(top_folder, 'GAN')\n",
    "dcgan_folder = os.path.join(top_folder, 'DCGAN')\n",
    "cgan_folder = os.path.join(top_folder, 'CGAN')\n",
    "wgan_folder = os.path.join(top_folder, 'WGAN')\n",
    "wgan_gp_folder = os.path.join(top_folder, 'WGAN-GP')\n",
    "stylegan_folder = os.path.join(top_folder, 'StyleGAN')"
   ]
  },
  {
   "cell_type": "code",
   "execution_count": null,
   "id": "0ac1023a",
   "metadata": {},
   "outputs": [],
   "source": [
    "def get_logs(parent, experiments):\n",
    "    cs = dict()\n",
    "    fcd = dict()\n",
    "    for folder, name in experiments.items():\n",
    "        with open(os.path.join(parent, folder, 'log.json')) as log_file:\n",
    "            log = json.load(log_file)\n",
    "            cs[name] = log['classifier_score']\n",
    "            fcd[name] = log['frechet_distance']\n",
    "    return cs, fcd"
   ]
  },
  {
   "cell_type": "code",
   "execution_count": null,
   "id": "059fb1d0",
   "metadata": {},
   "outputs": [],
   "source": [
    "def plot_metrics(metrics, xlabel='Epoch', figsize=(12, 4), **kwargs):\n",
    "    cols = len(metrics)\n",
    "    axes = list()\n",
    "    fig = plt.figure(figsize=figsize)\n",
    "    kwargs.setdefault('linewidth', 1)\n",
    "    for i, (ylabel, data) in enumerate(metrics.items()):\n",
    "        axes.append(plt.subplot(1, cols, i + 1))\n",
    "        for name, values in data.items():\n",
    "            plt.plot(values, label=name, **kwargs)\n",
    "        plt.xlabel(xlabel)\n",
    "        plt.ylabel(ylabel)\n",
    "        plt.grid()\n",
    "    plt.tight_layout(w_pad=4)\n",
    "    return fig, axes"
   ]
  },
  {
   "cell_type": "markdown",
   "id": "30711738",
   "metadata": {},
   "source": [
    "## 1 GAN"
   ]
  },
  {
   "cell_type": "markdown",
   "id": "0699036e",
   "metadata": {},
   "source": [
    "### 1.1 MNIST"
   ]
  },
  {
   "cell_type": "code",
   "execution_count": null,
   "id": "e234c570",
   "metadata": {},
   "outputs": [],
   "source": [
    "experiments = {\n",
    "    'BS4_LDIM256_SGD' : 'BS=4  LDIM=256 OPT=SGD',\n",
    "    'BS8_LDIM10_SGD'  : 'BS=8  LDIM=10 OPT=SGD',\n",
    "    'BS32_LDIM128_SGD': 'BS=32 LDIM=128 OPT=SGD',\n",
    "    'BS64_LDIM10_SGD' : 'BS=64 LDIM=10 OPT=SGD',\n",
    "    'BS8_LDIM10_Adam' : 'BS=8  LDIM=10 OPT=Adam'\n",
    "}\n",
    "parent = os.path.join(gan_folder, 'MNIST')\n",
    "cs, fcd = get_logs(parent, experiments)\n",
    "fig, (ax1, ax2) = plot_metrics({'CS': cs, 'FCD': fcd})\n",
    "[axes.legend(loc='best', framealpha=1, fontsize='small') for axes in [ax1, ax2]]\n",
    "fig.savefig('GAN_MNIST.pdf')"
   ]
  },
  {
   "cell_type": "markdown",
   "id": "18f90d4c",
   "metadata": {},
   "source": [
    "## 2 DCGAN"
   ]
  },
  {
   "cell_type": "markdown",
   "id": "57227453",
   "metadata": {},
   "source": [
    "### 2.1 MNIST"
   ]
  },
  {
   "cell_type": "markdown",
   "id": "86aad25f",
   "metadata": {},
   "source": [
    "Plotting all results"
   ]
  },
  {
   "cell_type": "code",
   "execution_count": null,
   "id": "dc062274",
   "metadata": {},
   "outputs": [],
   "source": [
    "experiments = {\n",
    "    'BS8_LDIM100_TRPCONV'  : 'BS=8   LDIM=100 UP=TrpConv',\n",
    "    'BS16_LDIM100_TRPCONV' : 'BS=16  LDIM=100 UP=TrpConv',\n",
    "    'BS32_LDIM100_TRPCONV' : 'BS=32  LDIM=100 UP=TrpConv',\n",
    "    'BS64_LDIM100_TRPCONV' : 'BS=64  LDIM=100 UP=TrpConv',\n",
    "    'BS128_LDIM100_TRPCONV': 'BS=128 LDIM=100 UP=TrpConv',\n",
    "    \n",
    "    'BS16_LDIM2_BILINEAR'  : 'BS=16 LDIM=2   UP=Bilinear',\n",
    "    'BS16_LDIM50_BILINEAR' : 'BS=16 LDIM=50  UP=Bilinear',\n",
    "    'BS16_LDIM100_BILINEAR': 'BS=16 LDIM=100 UP=Bilinear',\n",
    "    'BS16_LDIM128_BILINEAR': 'BS=16 LDIM=128 UP=Bilinear',\n",
    "    \n",
    "    'BS32_LDIM6_BILINEAR'  : 'BS=32 LDIM=6   UP=Bilinear',\n",
    "    'BS32_LDIM12_BILINEAR' : 'BS=32 LDIM=12  UP=Bilinear',\n",
    "    'BS32_LDIM50_BILINEAR' : 'BS=32 LDIM=50  UP=Bilinear',\n",
    "    'BS32_LDIM100_BILINEAR': 'BS=32 LDIM=100 UP=Bilinear',\n",
    "    'BS32_LDIM128_BILINEAR': 'BS=32 LDIM=128 UP=Bilinear'\n",
    "}\n",
    "parent = os.path.join(dcgan_folder, 'MNIST')\n",
    "cs, fcd = get_logs(parent, experiments)\n",
    "fig, (ax1, ax2) = plot_metrics({'CS': cs, 'FCD': fcd}, figsize=(12, 6))\n",
    "ax1.get_lines()[-1].set_color(colors[5])\n",
    "ax2.get_lines()[-1].set_color(colors[5])\n",
    "[axes.legend(loc='best', framealpha=1, fontsize='small') for axes in [ax1, ax2]]\n",
    "fig.savefig('DCGAN_MNIST.pdf')"
   ]
  },
  {
   "cell_type": "markdown",
   "id": "7a6083aa",
   "metadata": {},
   "source": [
    "Highlighting differences from bilinear upsample and transposed convolution"
   ]
  },
  {
   "cell_type": "code",
   "execution_count": null,
   "id": "f6efde67",
   "metadata": {},
   "outputs": [],
   "source": [
    "lines1 = ax1.get_lines()\n",
    "lines2 = ax2.get_lines()\n",
    "[line.set_color(colors[0]) for line in [*lines1[0:5], *lines2[0:5]]]\n",
    "[line.set_color(colors[1]) for line in [*lines1[5:], *lines2[5:]]]\n",
    "[axes.legend([lines1[0], lines1[-1]], ['Transpose Convolution', 'Bilinear Upsample']) for axes in [ax1, ax2]]\n",
    "fig.set_size_inches((12, 4))\n",
    "plt.tight_layout(h_pad=2, w_pad=4)\n",
    "fig.savefig('DCGAN_MNIST_Upsampling.pdf')"
   ]
  },
  {
   "cell_type": "markdown",
   "id": "526c9274",
   "metadata": {},
   "source": [
    "### 2.2 Fashion MNIST"
   ]
  },
  {
   "cell_type": "code",
   "execution_count": null,
   "id": "1554f8ca",
   "metadata": {},
   "outputs": [],
   "source": [
    "experiments = {\n",
    "    'BS16_LDIM16_TRPCONV': 'BS=16 LDIM=16 UP=TrpConv',\n",
    "    'BS16_LDIM32_TRPCONV': 'BS=16 LDIM=32 UP=TrpConv',\n",
    "    'BS32_LDIM16_TRPCONV': 'BS=32 LDIM=16 UP=TrpConv',\n",
    "    'BS32_LDIM32_TRPCONV': 'BS=32 LDIM=32 UP=TrpConv',\n",
    "    \n",
    "    'BS8_LDIM32_NEAREST' : 'BS=8  LDIM=32 UP=Nearest',\n",
    "    'BS16_LDIM32_NEAREST': 'BS=16 LDIM=32 UP=Nearest',\n",
    "    'BS32_LDIM32_NEAREST': 'BS=32 LDIM=32 UP=Nearest',\n",
    "    \n",
    "    'BS8_LDIM32_BILINEAR' : 'BS=8  LDIM=32 UP=Bilinear',\n",
    "    'BS16_LDIM16_BILINEAR': 'BS=16 LDIM=16 UP=Bilinear',\n",
    "    'BS16_LDIM32_BILINEAR': 'BS=16 LDIM=32 UP=Bilinear',\n",
    "    'BS32_LDIM16_BILINEAR': 'BS=32 LDIM=16 UP=Bilinear',\n",
    "    'BS32_LDIM32_BILINEAR': 'BS=32 LDIM=32 UP=Bilinear',\n",
    "    'BS64_LDIM32_BILINEAR': 'BS=64 LDIM=32 UP=Bilinear'\n",
    "}\n",
    "parent = os.path.join(dcgan_folder, 'Fashion')\n",
    "cs, fcd = get_logs(parent, experiments)\n",
    "fig, (ax1, ax2) = plot_metrics({'CS': cs, 'FCD': fcd})\n",
    "[axes.legend(loc='best', framealpha=1, fontsize='x-small') for axes in [ax1, ax2]]\n",
    "ax2.set_ylim(0, 12)\n",
    "fig.savefig('DCGAN_Fashion.pdf')"
   ]
  },
  {
   "cell_type": "code",
   "execution_count": null,
   "id": "9587f929",
   "metadata": {},
   "outputs": [],
   "source": [
    "lines1 = ax1.get_lines()\n",
    "lines2 = ax2.get_lines()\n",
    "[line.set_color(colors[0]) for line in [*lines1[0:4], *lines2[0:4]]]\n",
    "[line.set_color(colors[2]) for line in [*lines1[4:7], *lines2[4:7]]]\n",
    "[line.set_color(colors[1]) for line in [*lines1[7:], *lines2[7:]]]\n",
    "[\n",
    "    axes.legend(\n",
    "        [lines1[0], lines1[7], lines1[4]],\n",
    "        ['Transpose Convolution', 'Bilinear Upsample', 'Nearest Neighbour']\n",
    "    ) for axes in [ax1, ax2]\n",
    "]\n",
    "fig.set_size_inches((12, 4))\n",
    "fig.savefig('DCGAN_Fashion_Upsampling.pdf')"
   ]
  },
  {
   "cell_type": "markdown",
   "id": "2c27bb98",
   "metadata": {},
   "source": [
    "### 2.3 CIFAR"
   ]
  },
  {
   "cell_type": "code",
   "execution_count": null,
   "id": "f27b66e6",
   "metadata": {},
   "outputs": [],
   "source": [
    "experiments = {\n",
    "    'TRPCONV'        : 'UP=TrpConv',\n",
    "    'BILINEAR'       : 'UP=Bilinear',\n",
    "    'TRPCONV_SMOOTH' : 'UP=TrpConv SMOOTH=0.9',\n",
    "    'BILINEAR_SMOOTH': 'UP=Bilinear SMOOTH=0.9'\n",
    "}\n",
    "parent = os.path.join(dcgan_folder, 'CIFAR')\n",
    "cs, fcd = get_logs(parent, experiments)\n",
    "fig, (ax1, ax2) = plot_metrics({'CS': cs, 'FCD': fcd}, figsize=(12, 4))\n",
    "[axes.legend(loc='best', framealpha=1, fontsize='small') for axes in [ax1, ax2]]\n",
    "fig.savefig('DCGAN_CIFAR.pdf')"
   ]
  },
  {
   "cell_type": "markdown",
   "id": "3a491ab3",
   "metadata": {},
   "source": [
    "## 3 CGAN"
   ]
  },
  {
   "cell_type": "markdown",
   "id": "da15182a",
   "metadata": {},
   "source": [
    "### 3.1 MNIST"
   ]
  },
  {
   "cell_type": "code",
   "execution_count": null,
   "id": "fd1eb04d",
   "metadata": {},
   "outputs": [],
   "source": [
    "experiments = {\n",
    "    'BS16': 'BS=16',\n",
    "    'BS32': 'BS=32',\n",
    "    'BS16_SMOOTH': 'BS=16 SMOOTH=0.9',\n",
    "    'BS32_SMOOTH': 'BS=32 SMOOTH=0.9 '\n",
    "}\n",
    "parent = os.path.join(cgan_folder, 'MNIST')\n",
    "cs, fcd = get_logs(parent, experiments)\n",
    "fig, (ax1, ax2) = plot_metrics({'CS': cs, 'FCD': fcd}, figsize=(12, 4))\n",
    "[axes.legend(loc='best', framealpha=1, fontsize='small') for axes in [ax1, ax2]]\n",
    "fig.savefig('CGAN_MNIST.pdf')"
   ]
  },
  {
   "cell_type": "markdown",
   "id": "cf4cbbb6",
   "metadata": {},
   "source": [
    "### 3.2 Fashion MNIST"
   ]
  },
  {
   "cell_type": "code",
   "execution_count": null,
   "id": "d80c44e6",
   "metadata": {},
   "outputs": [],
   "source": [
    "experiments = {\n",
    "    'BS16': 'BS=16',\n",
    "    'BS32': 'BS=32',\n",
    "    'BS16_SMOOTH': 'BS=16 SMOOTH=0.9',\n",
    "    'BS32_SMOOTH': 'BS=32 SMOOTH=0.9 '\n",
    "}\n",
    "parent = os.path.join(cgan_folder, 'Fashion')\n",
    "cs, fcd = get_logs(parent, experiments)\n",
    "fig, (ax1, ax2) = plot_metrics({'CS': cs, 'FCD': fcd}, figsize=(12, 4))\n",
    "[axes.legend(loc='best', framealpha=1, fontsize='small') for axes in [ax1, ax2]]\n",
    "fig.savefig('CGAN_Fashion.pdf')"
   ]
  },
  {
   "cell_type": "markdown",
   "id": "3c81c0b7",
   "metadata": {},
   "source": [
    "### 3.3 CIFAR"
   ]
  },
  {
   "cell_type": "code",
   "execution_count": null,
   "id": "968a7628",
   "metadata": {},
   "outputs": [],
   "source": [
    "experiments = {\n",
    "    'beta1[0.0]_TRPCONV' : r'$\\beta_1$=0.0 UP=TrpConv',\n",
    "    'beta1[0.5]_TRPCONV' : r'$\\beta_1$=0.5 UP=TrpConv',\n",
    "    'beta1[0.0]_BILINEAR': r'$\\beta_1$=0.0 UP=Bilinear',\n",
    "    'beta1[0.5]_BILINEAR': r'$\\beta_1$=0.5 UP=Bilinear',\n",
    "    'beta1[0.0]_NEAREST' : r'$\\beta_1$=0.0 UP=Nearest',\n",
    "    'beta1[0.5]_NEAREST' : r'$\\beta_1$=0.5 UP=Nearest',\n",
    "    \n",
    "    'beta1[0.0]_TRPCONV_SMOOTH' : r'$\\beta_1$=0.0 UP=TrpConv SMOOTH=0.9',\n",
    "    'beta1[0.5]_TRPCONV_SMOOTH' : r'$\\beta_1$=0.5 UP=TrpConv SMOOTH=0.9',\n",
    "    'beta1[0.0]_BILINEAR_SMOOTH': r'$\\beta_1$=0.0 UP=Bilinear SMOOTH=0.9',\n",
    "    'beta1[0.5]_BILINEAR_SMOOTH': r'$\\beta_1$=0.5 UP=Bilinear SMOOTH=0.9',\n",
    "    'beta1[0.0]_NEAREST_SMOOTH' : r'$\\beta_1$=0.0 UP=Nearest  SMOOTH=0.9',\n",
    "    'beta1[0.5]_NEAREST_SMOOTH' : r'$\\beta_1$=0.5 UP=Nearest  SMOOTH=0.9'\n",
    "}\n",
    "parent = os.path.join(cgan_folder, 'CIFAR')\n",
    "cs, fcd = get_logs(parent, experiments)\n",
    "fig, (ax1, ax2) = plot_metrics({'CS': cs, 'FCD': fcd}, figsize=(12, 6))\n",
    "[axes.legend(loc='best', framealpha=1, fontsize='x-small', ncol=2) for axes in [ax1, ax2]]\n",
    "fig.savefig('CGAN_CIFAR.pdf')"
   ]
  },
  {
   "cell_type": "code",
   "execution_count": null,
   "id": "ed0add78",
   "metadata": {},
   "outputs": [],
   "source": [
    "lines1 = ax1.get_lines()\n",
    "lines2 = ax2.get_lines()\n",
    "ids = {\n",
    "    'TrpConv' : [0, 1, 6, 7],\n",
    "    'Bilinear' : [2, 3, 8, 9],\n",
    "    'Nearest': [4, 5, 10, 11]\n",
    "}\n",
    "[(lines1[i].set_color(colors[0]), lines2[i].set_color(colors[0])) for i in ids['TrpConv']]\n",
    "[(lines1[i].set_color(colors[1]), lines2[i].set_color(colors[1])) for i in ids['Bilinear']]\n",
    "[(lines1[i].set_color(colors[2]), lines2[i].set_color(colors[2])) for i in ids['Nearest']]\n",
    "[\n",
    "    axes.legend(\n",
    "        [lines1[0], lines1[2], lines1[4]],\n",
    "        ['Transpose Convolution', 'Bilinear Upsample', 'Nearest Neighbour']\n",
    "    ) for axes in [ax1, ax2]\n",
    "]\n",
    "fig.set_size_inches((12, 4))\n",
    "fig.savefig('CGAN_CIFAR_Upsampling.pdf')"
   ]
  },
  {
   "cell_type": "code",
   "execution_count": null,
   "id": "9128a316",
   "metadata": {},
   "outputs": [],
   "source": [
    "lines1 = ax1.get_lines()\n",
    "lines2 = ax2.get_lines()\n",
    "ids = {\n",
    "    'beta1=0.0' : [*range(0, 12, 2)],\n",
    "    'beta1=0.5' : [*range(1, 12, 2)],\n",
    "}\n",
    "[(lines1[i].set_color(colors[0]), lines2[i].set_color(colors[0])) for i in ids['beta1=0.0']]\n",
    "[(lines1[i].set_color(colors[1]), lines2[i].set_color(colors[1])) for i in ids['beta1=0.5']]\n",
    "[\n",
    "    axes.legend(\n",
    "        [lines1[0], lines1[1]],\n",
    "        [r'$\\beta_1$=0.0', r'$\\beta_1$=0.5']\n",
    "    ) for axes in [ax1, ax2]\n",
    "]\n",
    "fig.set_size_inches((12, 4))\n",
    "fig.savefig('CGAN_CIFAR_beta1.pdf')"
   ]
  },
  {
   "cell_type": "code",
   "execution_count": null,
   "id": "e0a9b685",
   "metadata": {},
   "outputs": [],
   "source": [
    "lines1 = ax1.get_lines()\n",
    "lines2 = ax2.get_lines()\n",
    "[line.set_color(colors[0]) for line in [*lines1[0:6], *lines2[0:6]]]\n",
    "[line.set_color(colors[1]) for line in [*lines1[6:], *lines2[6:]]]\n",
    "[\n",
    "    axes.legend(\n",
    "        [lines1[0], lines1[7]],\n",
    "        ['No Smoothing', 'Smoothing = 0.9']\n",
    "    ) for axes in [ax1, ax2]\n",
    "]\n",
    "fig.set_size_inches((12, 4))\n",
    "fig.savefig('CGAN_CIFAR_SMOOTH.pdf')"
   ]
  },
  {
   "cell_type": "markdown",
   "id": "60df5282",
   "metadata": {},
   "source": [
    "## 4 WGAN"
   ]
  },
  {
   "cell_type": "markdown",
   "id": "9184b6f8",
   "metadata": {},
   "source": [
    "### 4.1 MNIST"
   ]
  },
  {
   "cell_type": "code",
   "execution_count": null,
   "id": "73a638e9",
   "metadata": {},
   "outputs": [],
   "source": [
    "experiments = {\n",
    "    'NCRIT5_CLIP0.99_LR5e-05'   : r'NCRIT=5  CLIP=0.99  $\\eta$=5e-5 BN=No',   # 0\n",
    "    'NCRIT5_CLIP0.99_LR1e-04'   : r'NCRIT=5  CLIP=0.99  $\\eta$=1e-4 BN=No',   # 1\n",
    "    'NCRIT5_CLIP0.99_LR5e-03'   : r'NCRIT=5  CLIP=0.99  $\\eta$=5e-3 BN=No',   # 2\n",
    "    'NCRIT5_CLIP0.001_LR1e-03'  : r'NCRIT=5  CLIP=0.001 $\\eta$=1e-3 BN=No',   # 3\n",
    "    'NCRIT5_CLIP0.01_LR1e-03'   : r'NCRIT=5  CLIP=0.01  $\\eta$=1e-3 BN=No',   # 4\n",
    "    'NCRIT5_CLIP0.1_LR1e-03'    : r'NCRIT=5  CLIP=0.10  $\\eta$=1e-3 BN=No',   # 5\n",
    "    'NCRIT5_CLIP0.5_LR1e-03'    : r'NCRIT=5  CLIP=0.50  $\\eta$=1e-3 BN=No',   # 6\n",
    "    'NCRIT5_CLIP0.99_LR1e-03'   : r'NCRIT=5  CLIP=0.99  $\\eta$=1e-3 BN=No',   # 7\n",
    "    'NCRIT5_CLIP2.0_LR1e-03'    : r'NCRIT=5  CLIP=2.00  $\\eta$=1e-3 BN=No',   # 8\n",
    "    'NCRIT1_CLIP0.99_LR1e-03'   : r'NCRIT=1  CLIP=0.99  $\\eta$=1e-3 BN=No',   # 9\n",
    "    'NCRIT20_CLIP0.99_LR1e-03'  : r'NCRIT=20 CLIP=0.99  $\\eta$=1e-3 BN=No',   # 10\n",
    "    'NCRIT5_CLIP0.99_LR1e-04_BN': r'NCRIT=5  CLIP=0.99  $\\eta$=1e-4 BN=Yes',  # 11\n",
    "    'NCRIT5_CLIP0.99_LR5e-03_BN': r'NCRIT=5  CLIP=0.99  $\\eta$=5e-3 BN=Yes',  # 12\n",
    "    'NCRIT5_CLIP0.1_LR1e-03_BN' : r'NCRIT=5  CLIP=0.10  $\\eta$=1e-3 BN=Yes',  # 13\n",
    "    'NCRIT5_CLIP0.5_LR1e-03_BN' : r'NCRIT=5  CLIP=0.50  $\\eta$=1e-3 BN=Yes',  # 14\n",
    "    'NCRIT5_CLIP0.99_LR1e-03_BN': r'NCRIT=5  CLIP=0.99  $\\eta$=1e-3 BN=Yes',  # 15\n",
    "    'NCRIT5_CLIP2.0_LR1e-03_BN' : r'NCRIT=5  CLIP=2.00  $\\eta$=1e-3 BN=Yes',  # 16\n",
    "    'NCRIT1_CLIP0.99_LR1e-03_BN': r'NCRIT=1  CLIP=0.99  $\\eta$=1e-3 BN=Yes'   # 17\n",
    "}\n",
    "parent = os.path.join(wgan_folder, 'MNIST')\n",
    "cs, fcd = get_logs(parent, experiments)\n",
    "fig, (ax1, ax2) = plot_metrics({'CS': cs, 'FCD': fcd}, figsize=(12, 6))\n",
    "ax1.set_ylim([1.5, 7.5])\n",
    "ax1.legend(loc='best', framealpha=0.8, fontsize='x-small', ncol=2)\n",
    "ax2.legend(loc='best', framealpha=1, fontsize='x-small', ncol=2)\n",
    "fig.savefig('WGAN_MNIST.pdf')"
   ]
  },
  {
   "cell_type": "markdown",
   "id": "0bcd06a0",
   "metadata": {},
   "source": [
    "Highlight different critic steps"
   ]
  },
  {
   "cell_type": "code",
   "execution_count": null,
   "id": "803c2a4b",
   "metadata": {},
   "outputs": [],
   "source": [
    "lines1 = ax1.get_lines()\n",
    "lines2 = ax2.get_lines()\n",
    "ids = {\n",
    "    'ncrit=1' : [9, 17],\n",
    "    'ncrit=5' : [*range(9), *range(11, 17)],\n",
    "    'ncrit=20': [10]\n",
    "}\n",
    "[(lines1[i].set_color(colors[0]), lines2[i].set_color(colors[0])) for i in ids['ncrit=1']]\n",
    "[(lines1[i].set_color(colors[1]), lines2[i].set_color(colors[1])) for i in ids['ncrit=5']]\n",
    "[(lines1[i].set_color(colors[2]), lines2[i].set_color(colors[2])) for i in ids['ncrit=20']]\n",
    "[\n",
    "    axes.legend(\n",
    "        [lines1[9], lines1[0], lines1[10]],\n",
    "        ['Critic Steps = 1', 'Critic Steps = 5', 'Critic Steps = 20']\n",
    "    ) for axes in [ax1, ax2]\n",
    "]\n",
    "fig.set_size_inches((12, 4))\n",
    "plt.tight_layout(h_pad=1)\n",
    "fig.savefig('WGAN_MNIST_NCRIT.pdf')"
   ]
  },
  {
   "cell_type": "markdown",
   "id": "c248d7a7",
   "metadata": {},
   "source": [
    "Highlight clip value"
   ]
  },
  {
   "cell_type": "code",
   "execution_count": null,
   "id": "586e7ac1",
   "metadata": {},
   "outputs": [],
   "source": [
    "lines1 = ax1.get_lines()\n",
    "lines2 = ax2.get_lines()\n",
    "ids = {\n",
    "    'clip=0.001' : [3],\n",
    "    'clip=0.01' : [4],\n",
    "    'clip=0.1': [5, 13],\n",
    "    'clip=0.5': [6, 14],\n",
    "    'clip=0.99': [*range(3), 7, *range(9, 13), 15, 17],\n",
    "    'clip=2.0': [8, 16]\n",
    "}\n",
    "[(lines1[i].set_color(colors[0]), lines2[i].set_color(colors[0])) for i in ids['clip=0.001']]\n",
    "[(lines1[i].set_color(colors[1]), lines2[i].set_color(colors[1])) for i in ids['clip=0.01' ]]\n",
    "[(lines1[i].set_color(colors[2]), lines2[i].set_color(colors[2])) for i in ids['clip=0.1'  ]]\n",
    "[(lines1[i].set_color(colors[3]), lines2[i].set_color(colors[3])) for i in ids['clip=0.5'  ]]\n",
    "[(lines1[i].set_color(colors[4]), lines2[i].set_color(colors[4])) for i in ids['clip=0.99' ]]\n",
    "[(lines1[i].set_color(colors[5]), lines2[i].set_color(colors[5])) for i in ids['clip=2.0'  ]]\n",
    "[\n",
    "    axes.legend(\n",
    "        [lines1[3], lines1[4], lines1[5], lines1[6], lines1[7],  lines1[8]],\n",
    "        ['Clip = 0.001', 'Clip = 0.01', 'Clip = 0.1', 'Clip = 0.5', 'Clip = 0.99', 'Clip = 2.0'],\n",
    "        ncol=2\n",
    "    ) for axes in [ax1, ax2]\n",
    "]\n",
    "fig.set_size_inches((12, 4))\n",
    "plt.tight_layout(h_pad=1)\n",
    "fig.savefig('WGAN_MNIST_CLIP.pdf')"
   ]
  },
  {
   "cell_type": "markdown",
   "id": "ba341fb4",
   "metadata": {},
   "source": [
    "Highlight use of Batch Normalization"
   ]
  },
  {
   "cell_type": "code",
   "execution_count": null,
   "id": "fc38636a",
   "metadata": {},
   "outputs": [],
   "source": [
    "lines1 = ax1.get_lines()\n",
    "lines2 = ax2.get_lines()\n",
    "ids = {\n",
    "    'BN=No' : [*range(11)],\n",
    "    'BN=Yes' : [*range(11, 18)],\n",
    "}\n",
    "[(lines1[i].set_color(colors[0]), lines2[i].set_color(colors[0])) for i in ids['BN=No']]\n",
    "[(lines1[i].set_color(colors[1]), lines2[i].set_color(colors[1])) for i in ids['BN=Yes' ]]\n",
    "[axes.legend([lines1[0], lines1[-1]], ['No Batch Normalization', 'Using Batch Normalization']) for axes in [ax1, ax2]]\n",
    "fig.set_size_inches((12, 4))\n",
    "plt.tight_layout(h_pad=1)\n",
    "fig.savefig('WGAN_MNIST_BN.pdf')"
   ]
  },
  {
   "cell_type": "code",
   "execution_count": null,
   "id": "32f8ecc9",
   "metadata": {},
   "outputs": [],
   "source": [
    "lines1 = ax1.get_lines()\n",
    "lines2 = ax2.get_lines()\n",
    "ids = {\n",
    "    '\\eta=5e-5': [0],\n",
    "    '\\eta=1e-4': [1, 11],\n",
    "    '\\eta=1e-3': [*range(3, 11), *range(13, 18)],\n",
    "    '\\eta=5e-3': [2, 12],\n",
    "}\n",
    "[(lines1[i].set_color(colors[0]), lines2[i].set_color(colors[0])) for i in ids['\\eta=5e-5']]\n",
    "[(lines1[i].set_color(colors[1]), lines2[i].set_color(colors[1])) for i in ids['\\eta=1e-4']]\n",
    "[(lines1[i].set_color(colors[2]), lines2[i].set_color(colors[2])) for i in ids['\\eta=1e-3']]\n",
    "[(lines1[i].set_color(colors[3]), lines2[i].set_color(colors[3])) for i in ids['\\eta=5e-3']]\n",
    "[\n",
    "    axes.legend(\n",
    "        [lines1[0], lines1[1], lines1[3], lines1[2]],\n",
    "        [r'$\\eta$=5e-5', r'$\\eta$=1e-4', r'$\\eta$=1e-3', r'$\\eta$=5e-3']\n",
    "    ) for axes in [ax1, ax2]\n",
    "]\n",
    "fig.set_size_inches((12, 4))\n",
    "plt.tight_layout(h_pad=1)\n",
    "fig.savefig('WGAN_MNIST_learning_rate.pdf')"
   ]
  },
  {
   "cell_type": "markdown",
   "id": "014bf6a4",
   "metadata": {},
   "source": [
    "### 4.2 Fashion MNIST"
   ]
  },
  {
   "cell_type": "code",
   "execution_count": null,
   "id": "58807bd2",
   "metadata": {},
   "outputs": [],
   "source": [
    "experiments = {\n",
    "    'NCRIT5_CLIP0.01_LR5e-05' : r'NCRIT=5  CLIP=0.01  $\\eta$=5e-5',  # 0\n",
    "    'NCRIT5_CLIP0.5_LR5e-05'  : r'NCRIT=5  CLIP=0.50  $\\eta$=5e-5',  # 1\n",
    "    'NCRIT5_CLIP0.99_LR5e-05' : r'NCRIT=5  CLIP=0.99  $\\eta$=5e-5',  # 2\n",
    "    'NCRIT5_CLIP0.99_LR1e-03' : r'NCRIT=5  CLIP=0.99  $\\eta$=1e-3',  # 3\n",
    "    'NCRIT5_CLIP0.99_LR5e-03' : r'NCRIT=5  CLIP=0.99  $\\eta$=5e-3',  # 4\n",
    "    'NCRIT5_CLIP0.99_LR2e-04' : r'NCRIT=5  CLIP=0.99  $\\eta$=2e-4',  # 5\n",
    "    'NCRIT5_CLIP2.0_LR5e-05'  : r'NCRIT=5  CLIP=2.00  $\\eta$=5e-5',  # 6\n",
    "    'NCRIT10_CLIP0.99_LR1e-03': r'NCRIT=10 CLIP=0.99  $\\eta$=1e-3'   # 7\n",
    "}\n",
    "parent = os.path.join(wgan_folder, 'Fashion')\n",
    "cs, fcd = get_logs(parent, experiments)\n",
    "fig, (ax1, ax2) = plot_metrics({'CS': cs, 'FCD': fcd})\n",
    "[axes.set_xlim([-1, 20.5]) for axes in [ax1, ax2]]\n",
    "[axes.set_xticks([*range(0, 24, 4)]) for axes in [ax1, ax2]]\n",
    "[axes.legend(loc='best', framealpha=1, fontsize='small', ncol=2) for axes in [ax1, ax2]]\n",
    "fig.savefig('WGAN_Fashion.pdf')"
   ]
  },
  {
   "cell_type": "code",
   "execution_count": null,
   "id": "b059bea6",
   "metadata": {},
   "outputs": [],
   "source": [
    "lines1 = ax1.get_lines()\n",
    "lines2 = ax2.get_lines()\n",
    "ids = {\n",
    "    '\\eta=5e-5': [0, 1, 2, 6],\n",
    "    '\\eta=2e-4': [5],\n",
    "    '\\eta=1e-3': [3, 7],\n",
    "    '\\eta=5e-3': [4],\n",
    "}\n",
    "[(lines1[i].set_color(colors[0]), lines2[i].set_color(colors[0])) for i in ids['\\eta=5e-5']]\n",
    "[(lines1[i].set_color(colors[1]), lines2[i].set_color(colors[1])) for i in ids['\\eta=2e-4']]\n",
    "[(lines1[i].set_color(colors[2]), lines2[i].set_color(colors[2])) for i in ids['\\eta=1e-3']]\n",
    "[(lines1[i].set_color(colors[3]), lines2[i].set_color(colors[3])) for i in ids['\\eta=5e-3']]\n",
    "[\n",
    "    axes.legend(\n",
    "        [lines1[0], lines1[5], lines1[3], lines1[4]],\n",
    "        [r'$\\eta$=5e-5', r'$\\eta$=2e-4', r'$\\eta$=1e-3', r'$\\eta$=5e-3']\n",
    "    ) for axes in [ax1, ax2]\n",
    "]\n",
    "fig.set_size_inches((12, 4))\n",
    "plt.tight_layout(h_pad=1)\n",
    "fig.savefig('WGAN_Fashion_learning_rate.pdf')"
   ]
  },
  {
   "cell_type": "markdown",
   "id": "47333f7b",
   "metadata": {},
   "source": [
    "## 5 WGAN-GP"
   ]
  },
  {
   "cell_type": "markdown",
   "id": "a8fbce3f",
   "metadata": {},
   "source": [
    "### 5.1 MNIST"
   ]
  },
  {
   "cell_type": "code",
   "execution_count": null,
   "id": "70489e37",
   "metadata": {},
   "outputs": [],
   "source": [
    "experiments = {\n",
    "    'NCRIT1_LAMBDA10' : r'NCRIT=1  $\\lambda$=10',\n",
    "    'NCRIT5_LAMBDA5'  : r'NCRIT=5  $\\lambda$=5' ,\n",
    "    'NCRIT5_LAMBDA10' : r'NCRIT=5  $\\lambda$=10',\n",
    "    'NCRIT5_LAMBDA20' : r'NCRIT=5  $\\lambda$=20',\n",
    "    'NCRIT10_LAMBDA10': r'NCRIT=10 $\\lambda$=10'\n",
    "}\n",
    "parent = os.path.join(wgan_gp_folder, 'MNIST')\n",
    "cs, fcd = get_logs(parent, experiments)\n",
    "fig, (ax1, ax2) = plot_metrics({'CS': cs, 'FCD': fcd}, figsize=(12, 4))\n",
    "[axes.legend(loc='best', framealpha=1, fontsize='small') for axes in [ax1, ax2]]\n",
    "fig.savefig('WGAN-GP_MNIST.pdf')"
   ]
  },
  {
   "cell_type": "markdown",
   "id": "77d4c5af",
   "metadata": {},
   "source": [
    "### 5.2 Fashion MNIST"
   ]
  },
  {
   "cell_type": "code",
   "execution_count": null,
   "id": "afc287d6",
   "metadata": {},
   "outputs": [],
   "source": [
    "experiments = {\n",
    "    'NCRIT1_LAMBDA5' : r'NCRIT=1 $\\lambda$=5',\n",
    "    'NCRIT5_LAMBDA5' : r'NCRIT=5 $\\lambda$=5',\n",
    "    'NCRIT5_LAMBDA10': r'NCRIT=5 $\\lambda$=10',\n",
    "    'NCRIT5_LAMBDA20': r'NCRIT=5 $\\lambda$=20',\n",
    "    'NCRIT10_LAMBDA5': r'NCRIT=10 $\\lambda$=5'\n",
    "}\n",
    "parent = os.path.join(wgan_gp_folder, 'Fashion')\n",
    "cs, fcd = get_logs(parent, experiments)\n",
    "fig, (ax1, ax2) = plot_metrics({'CS': cs, 'FCD': fcd}, figsize=(12, 4))\n",
    "[axes.legend(loc='best', framealpha=1, fontsize='small') for axes in [ax1, ax2]]\n",
    "fig.savefig('WGAN-GP_Fashion.pdf')"
   ]
  },
  {
   "cell_type": "markdown",
   "id": "fd6f6099",
   "metadata": {},
   "source": [
    "### 5.3 CIFAR"
   ]
  },
  {
   "cell_type": "code",
   "execution_count": null,
   "id": "a633df07",
   "metadata": {},
   "outputs": [],
   "source": [
    "experiments = {\n",
    "    'NCRIT5_beta1[0.0]_LR2e-04_TRPCONV' : r'NCRIT=5 $\\eta$=2e-4 $\\beta_1$=0.0 UP=TrpConv',\n",
    "    'NCRIT5_beta1[0.5]_LR2e-04_TRPCONV' : r'NCRIT=5 $\\eta$=2e-4 $\\beta_1$=0.5 UP=TrpConv',\n",
    "    'NCRIT5_beta1[0.0]_LR2e-04_BILINEAR': r'NCRIT=5 $\\eta$=2e-4 $\\beta_1$=0.0 UP=Bilinear',\n",
    "    'NCRIT5_beta1[0.5]_LR2e-04_BILINEAR': r'NCRIT=5 $\\eta$=2e-4 $\\beta_1$=0.5 UP=Bilinear',\n",
    "    'NCRIT5_beta1[0.0]_LR2e-04_NEAREST' : r'NCRIT=5 $\\eta$=2e-4 $\\beta_1$=0.0 UP=Nearest',\n",
    "    'NCRIT5_beta1[0.5]_LR2e-04_NEAREST' : r'NCRIT=5 $\\eta$=2e-4 $\\beta_1$=0.5 UP=Nearest',\n",
    "    'NCRIT1_beta1[0.0]_LR1e-04_NEAREST' : r'NCRIT=1 $\\eta$=1e-4 $\\beta_1$=0.0 UP=Nearest'\n",
    "}\n",
    "parent = os.path.join(wgan_gp_folder, 'CIFAR')\n",
    "cs, fcd = get_logs(parent, experiments)\n",
    "fig, (ax1, ax2) = plot_metrics({'CS': cs, 'FCD': fcd}, figsize=(12, 6))\n",
    "[axes.legend(loc='best', framealpha=1, fontsize='x-small') for axes in [ax1, ax2]]\n",
    "ax2.set_yticks([*range(0, 100, 10)])\n",
    "ax2.set_ylim([0, 90])\n",
    "fig.savefig('WGAN-GP_CIFAR.pdf')"
   ]
  },
  {
   "cell_type": "markdown",
   "id": "e70486d1",
   "metadata": {},
   "source": [
    "## 6 Comparison"
   ]
  },
  {
   "cell_type": "markdown",
   "id": "3383522d",
   "metadata": {},
   "source": [
    "### 6.1 MNIST"
   ]
  },
  {
   "cell_type": "code",
   "execution_count": null,
   "id": "e3ab89e1",
   "metadata": {},
   "outputs": [],
   "source": [
    "experiments = {\n",
    "    os.path.join('DCGAN', 'MNIST', 'BS32_LDIM12_BILINEAR'): 'DCGAN 1',\n",
    "    os.path.join('DCGAN', 'MNIST', 'BS32_LDIM50_BILINEAR'): 'DCGAN 2',\n",
    "    os.path.join('DCGAN', 'MNIST', 'BS16_LDIM100_TRPCONV'): 'DCGAN 3',\n",
    "    \n",
    "    os.path.join('CGAN', 'MNIST', 'BS16'       ): 'CGAN 1',\n",
    "    os.path.join('CGAN', 'MNIST', 'BS16_SMOOTH'): 'CGAN 2',\n",
    "    os.path.join('CGAN', 'MNIST', 'BS32_SMOOTH'): 'CGAN 3',\n",
    "    \n",
    "    os.path.join('WGAN', 'MNIST', 'NCRIT1_CLIP0.99_LR1e-03'): 'WGAN 1',\n",
    "    os.path.join('WGAN', 'MNIST', 'NCRIT5_CLIP0.99_LR5e-03'): 'WGAN 2',\n",
    "    os.path.join('WGAN', 'MNIST', 'NCRIT5_CLIP0.99_LR1e-03'): 'WGAN 3',\n",
    "    \n",
    "    os.path.join('WGAN-GP', 'MNIST', 'NCRIT1_LAMBDA10'): 'WGAN-GP 1',\n",
    "    os.path.join('WGAN-GP', 'MNIST', 'NCRIT5_LAMBDA5' ): 'WGAN-GP 2',\n",
    "    os.path.join('WGAN-GP', 'MNIST', 'NCRIT5_LAMBDA10'): 'WGAN-GP 3'\n",
    "}\n",
    "cs, fcd = get_logs(top_folder, experiments)\n",
    "fig, (ax1, ax2) = plot_metrics({'CS': cs, 'FCD': fcd}, figsize=(12, 4))\n",
    "\n",
    "\n",
    "lines1 = ax1.get_lines()\n",
    "lines2 = ax2.get_lines()\n",
    "[line.set_color(colors[0]) for line in [*lines1[0:3], *lines2[0:3]]]\n",
    "[line.set_color(colors[1]) for line in [*lines1[3:6], *lines2[3:6]]]\n",
    "[line.set_color(colors[2]) for line in [*lines1[6:9], *lines2[6:9]]]\n",
    "[line.set_color(colors[3]) for line in [*lines1[9:12], *lines2[9:12]]]\n",
    "[\n",
    "    axes.legend(\n",
    "        [lines1[0], lines1[3], lines1[6], lines1[9]],\n",
    "        ['DCGAN', 'CGAN', 'WGAN', 'WGAN-GP'],\n",
    "        framealpha=1\n",
    "    ) for axes in [ax1, ax2]\n",
    "]\n",
    "fig.savefig('Comparison_MNIST.pdf')"
   ]
  },
  {
   "cell_type": "markdown",
   "id": "daf6b2bf",
   "metadata": {},
   "source": [
    "### 6.2 Fashion MNIST"
   ]
  },
  {
   "cell_type": "code",
   "execution_count": null,
   "id": "28af84f4",
   "metadata": {},
   "outputs": [],
   "source": [
    "experiments = {\n",
    "    os.path.join('DCGAN', 'Fashion', 'BS16_LDIM16_TRPCONV'): 'DCGAN 1',\n",
    "    os.path.join('DCGAN', 'Fashion', 'BS16_LDIM32_TRPCONV'): 'DCGAN 2',\n",
    "    os.path.join('DCGAN', 'Fashion', 'BS8_LDIM32_NEAREST'): 'DCGAN 3',\n",
    "    \n",
    "    os.path.join('CGAN', 'Fashion', 'BS16'       ): 'CGAN 1',\n",
    "    os.path.join('CGAN', 'Fashion', 'BS32'       ): 'CGAN 2',\n",
    "    os.path.join('CGAN', 'Fashion', 'BS16_SMOOTH'): 'CGAN 3',\n",
    "    \n",
    "    os.path.join('WGAN', 'Fashion', 'NCRIT5_CLIP0.99_LR1e-03' ): 'WGAN 1',\n",
    "    os.path.join('WGAN', 'Fashion', 'NCRIT10_CLIP0.99_LR1e-03'): 'WGAN 2',\n",
    "    os.path.join('WGAN', 'Fashion', 'NCRIT5_CLIP0.99_LR2e-04' ): 'WGAN 3',\n",
    "    \n",
    "    os.path.join('WGAN-GP', 'Fashion', 'NCRIT1_LAMBDA5' ): 'WGAN-GP 1',\n",
    "    os.path.join('WGAN-GP', 'Fashion', 'NCRIT5_LAMBDA5' ): 'WGAN-GP 2',\n",
    "    os.path.join('WGAN-GP', 'Fashion', 'NCRIT5_LAMBDA20'): 'WGAN-GP 3'\n",
    "}\n",
    "cs, fcd = get_logs(top_folder, experiments)\n",
    "fig, (ax1, ax2) = plot_metrics({'CS': cs, 'FCD': fcd}, figsize=(12, 4))\n",
    "\n",
    "\n",
    "lines1 = ax1.get_lines()\n",
    "lines2 = ax2.get_lines()\n",
    "[line.set_color(colors[0]) for line in [*lines1[0:3], *lines2[0:3]]]\n",
    "[line.set_color(colors[1]) for line in [*lines1[3:6], *lines2[3:6]]]\n",
    "[line.set_color(colors[2]) for line in [*lines1[6:9], *lines2[6:9]]]\n",
    "[line.set_color(colors[3]) for line in [*lines1[9:12], *lines2[9:12]]]\n",
    "[\n",
    "    axes.legend(\n",
    "        [lines1[0], lines1[3], lines1[6], lines1[9]],\n",
    "        ['DCGAN', 'CGAN', 'WGAN', 'WGAN-GP'],\n",
    "        framealpha=1\n",
    "    ) for axes in [ax1, ax2]\n",
    "]\n",
    "fig.savefig('Comparison_Fashion.pdf')"
   ]
  },
  {
   "cell_type": "markdown",
   "id": "fd266d81",
   "metadata": {},
   "source": [
    "### 6.3 CIFAR"
   ]
  },
  {
   "cell_type": "code",
   "execution_count": null,
   "id": "107e8b4a",
   "metadata": {},
   "outputs": [],
   "source": [
    "experiments = {\n",
    "    os.path.join('DCGAN', 'CIFAR', 'TRPCONV'        ): 'DCGAN 1',\n",
    "    os.path.join('DCGAN', 'CIFAR', 'TRPCONV_SMOOTH' ): 'DCGAN 2',\n",
    "    os.path.join('DCGAN', 'CIFAR', 'BILINEAR_SMOOTH'): 'DCGAN 3',\n",
    "    \n",
    "    os.path.join('CGAN', 'CIFAR', 'beta1[0.0]_TRPCONV_SMOOTH'    ): 'CGAN 1',\n",
    "    os.path.join('CGAN', 'CIFAR', 'beta1[0.0]_TRPCONV'           ): 'CGAN 2',\n",
    "    os.path.join('CGAN', 'CIFAR', 'beta1[0.5]_BILINEAR_SMOOTH'): 'CGAN 3',\n",
    "    \n",
    "    os.path.join('WGAN-GP', 'CIFAR', 'NCRIT1_beta1[0.0]_LR1e-04_NEAREST' ): 'WGAN-GP 1',\n",
    "    os.path.join('WGAN-GP', 'CIFAR', 'NCRIT5_beta1[0.0]_LR2e-04_TRPCONV' ): 'WGAN-GP 2',\n",
    "    os.path.join('WGAN-GP', 'CIFAR', 'NCRIT5_beta1[0.0]_LR2e-04_BILINEAR'): 'WGAN-GP 3'\n",
    "}\n",
    "cs, fcd = get_logs(top_folder, experiments)\n",
    "fig, (ax1, ax2) = plot_metrics({'CS': cs, 'FCD': fcd}, figsize=(12, 4))\n",
    "\n",
    "\n",
    "lines1 = ax1.get_lines()\n",
    "lines2 = ax2.get_lines()\n",
    "[line.set_color(colors[0]) for line in [*lines1[0:3], *lines2[0:3]]]\n",
    "[line.set_color(colors[1]) for line in [*lines1[3:6], *lines2[3:6]]]\n",
    "[line.set_color(colors[3]) for line in [*lines1[6:9], *lines2[6:9]]]\n",
    "[\n",
    "    axes.legend(\n",
    "        [lines1[0], lines1[3], lines1[6],],\n",
    "        ['DCGAN', 'CGAN', 'WGAN-GP'],\n",
    "        framealpha=1\n",
    "    ) for axes in [ax1, ax2]\n",
    "]\n",
    "fig.savefig('Comparison_CIFAR.pdf')"
   ]
  },
  {
   "cell_type": "markdown",
   "id": "2576c516",
   "metadata": {},
   "source": [
    "## 7 Others"
   ]
  },
  {
   "cell_type": "markdown",
   "id": "b4ceb0bb",
   "metadata": {},
   "source": [
    "### 7.1 Showing labels of CIFAR"
   ]
  },
  {
   "cell_type": "code",
   "execution_count": null,
   "id": "8a8f9322",
   "metadata": {},
   "outputs": [],
   "source": [
    "best_image = os.path.join(cgan_folder, 'CIFAR', 'beta1[0.0]_TRPCONV_SMOOTH', 'epoch-25.png')\n",
    "best_image = tf.keras.preprocessing.image.load_img(best_image)\n",
    "best_image = tf.keras.preprocessing.image.img_to_array(best_image, dtype='uint8')\n",
    "fig = plt.figure()\n",
    "plt.imshow(best_image)\n",
    "\n",
    "height = plt.ylim()[0] - plt.ylim()[1]\n",
    "ticks = np.linspace(0, height, 21)\n",
    "ticks = ticks[range(1, 21, 2)]\n",
    "labels = ['Airplane', 'Automobile', 'Bird', 'Cat', 'Deer', 'Dog', 'Frog', 'Horse', 'Ship', 'Truck']\n",
    "\n",
    "plt.yticks(ticks, labels)\n",
    "plt.xticks([])\n",
    "plt.xlabel('')\n",
    "plt.tight_layout(h_pad=0)\n",
    "fig.savefig('CGAN_CIFAR_Labeled.pdf')"
   ]
  }
 ],
 "metadata": {
  "kernelspec": {
   "display_name": "Python 3",
   "language": "python",
   "name": "python3"
  },
  "language_info": {
   "codemirror_mode": {
    "name": "ipython",
    "version": 3
   },
   "file_extension": ".py",
   "mimetype": "text/x-python",
   "name": "python",
   "nbconvert_exporter": "python",
   "pygments_lexer": "ipython3",
   "version": "3.7.10"
  }
 },
 "nbformat": 4,
 "nbformat_minor": 5
}
