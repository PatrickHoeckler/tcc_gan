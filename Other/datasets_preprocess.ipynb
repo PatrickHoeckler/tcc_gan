{
 "cells": [
  {
   "cell_type": "code",
   "execution_count": null,
   "id": "0d125df9",
   "metadata": {},
   "outputs": [],
   "source": [
    "import tensorflow as tf\n",
    "import numpy as np\n",
    "from tqdm.notebook import tqdm\n",
    "from pathlib import Path\n",
    "import os"
   ]
  },
  {
   "cell_type": "code",
   "execution_count": null,
   "id": "f3b26f67",
   "metadata": {},
   "outputs": [],
   "source": [
    "Path('datasets_preprocess').mkdir(exist_ok=True)\n",
    "os.chdir('datasets_preprocess')"
   ]
  },
  {
   "cell_type": "markdown",
   "id": "4b60e4ec",
   "metadata": {},
   "source": [
    "## 1 Flowers"
   ]
  },
  {
   "cell_type": "markdown",
   "id": "19aa2ee7",
   "metadata": {},
   "source": [
    "This dataset must be downloaded separedly, you can find it in this link:\n",
    "https://www.robots.ox.ac.uk/~vgg/data/flowers/102/index.html\n",
    "\n",
    "After downloading, make sure the folder structure is as follows:\n",
    "```\n",
    "📂<PARENT> \n",
    " ┗ 📂flowers \n",
    "    ┗ 📂imgs \n",
    "       ┣ 📄image_00001.jpg\n",
    "       ┣ 📄image_00002.jpg\n",
    "       ┗ 📄 ...\n",
    "```"
   ]
  },
  {
   "cell_type": "code",
   "execution_count": null,
   "id": "8bf07acc",
   "metadata": {},
   "outputs": [],
   "source": [
    "flowers_parent_path = '<PATH TO FOLDER CONTAINING THE DATASET>'\n",
    "flowers_dir = os.path.join(flowers_parent_path, 'flowers', 'imgs')"
   ]
  },
  {
   "cell_type": "code",
   "execution_count": null,
   "id": "7e481d38",
   "metadata": {},
   "outputs": [],
   "source": [
    "files = os.listdir(flowers_dir)\n",
    "data = np.empty(shape=(len(files), 48, 48, 3), dtype='uint8')\n",
    "for i, f in enumerate(tqdm(files)):\n",
    "    img = tf.keras.preprocessing.image.load_img(os.path.join(flowers_dir, f))\n",
    "    width, height = img.size\n",
    "    x0 = (width - 500) // 2\n",
    "    y0 = (height - 500) // 2\n",
    "    img = img.crop((x0, y0, x0 + 500, y0 + 500))\n",
    "    img = img.resize((48, 48))\n",
    "    data[i] = tf.keras.preprocessing.image.img_to_array(img, dtype='uint8')\n",
    "np.save('flowers.npy', data)"
   ]
  },
  {
   "cell_type": "code",
   "execution_count": null,
   "id": "9316a256",
   "metadata": {},
   "outputs": [],
   "source": [
    "np.save(os.path.join('..', '..', 'flowers2.npy'), data)"
   ]
  },
  {
   "cell_type": "markdown",
   "id": "07b02184",
   "metadata": {},
   "source": [
    "## 2 CelebA"
   ]
  },
  {
   "cell_type": "markdown",
   "id": "971bb649",
   "metadata": {},
   "source": [
    "This dataset must be downloaded separedly, you can find it in this link:\n",
    "http://mmlab.ie.cuhk.edu.hk/projects/CelebA.html\n",
    "\n",
    "After downloading, make sure the folder structure is as follows:\n",
    "```\n",
    "📂<PARENT> \n",
    " ┗ 📂celeba \n",
    "    ┗ 📂imgs \n",
    "       ┣ 📄000001.jpg \n",
    "       ┣ 📄000002.jpg \n",
    "       ┗ 📄 ...\n",
    "```"
   ]
  },
  {
   "cell_type": "code",
   "execution_count": null,
   "id": "605349a6",
   "metadata": {},
   "outputs": [],
   "source": [
    "celeba_parent_path = '<PATH TO FOLDER CONTAINING THE DATASET>'\n",
    "celeba_dir = os.path.join(celeba_parent_path, 'celeba', 'imgs')"
   ]
  },
  {
   "cell_type": "code",
   "execution_count": null,
   "id": "15290fd9",
   "metadata": {},
   "outputs": [],
   "source": [
    "IMAGE_COUNT = len(os.listdir(celeba_dir))\n",
    "IMAGE_HEIGHT = 218\n",
    "IMAGE_WIDTH = 178\n",
    "HEIGHT_CROP = 96\n",
    "WIDTH_CROP = 96\n",
    "HEIGHT_RESIZE = 48\n",
    "WIDTH_RESIZE = 48\n",
    "\n",
    "x0 = int(0.5*(IMAGE_WIDTH  - WIDTH_CROP ))\n",
    "y0 = int(0.7*(IMAGE_HEIGHT - HEIGHT_CROP))\n",
    "x1 = x0 + WIDTH_CROP\n",
    "y1 = y0 + HEIGHT_CROP\n",
    "\n",
    "print('Bounding box:', (x0, y0, x1, y1))"
   ]
  },
  {
   "cell_type": "code",
   "execution_count": null,
   "id": "0a865312",
   "metadata": {},
   "outputs": [],
   "source": [
    "def process_images(images):\n",
    "    images = tf.image.crop_to_bounding_box(images, y0, x0, HEIGHT_CROP, WIDTH_CROP)\n",
    "    images = tf.image.resize(images, (HEIGHT_RESIZE, WIDTH_RESIZE), method='area')\n",
    "    return tf.cast(images, 'uint8')"
   ]
  },
  {
   "cell_type": "code",
   "execution_count": null,
   "id": "80ececf8",
   "metadata": {},
   "outputs": [],
   "source": [
    "dataset = tf.keras.preprocessing.image_dataset_from_directory(\n",
    "    os.path.join(celeba_dir, '..'),\n",
    "    label_mode=None,\n",
    "    batch_size=32,\n",
    "    image_size=(218, 178)\n",
    ")\n",
    "dataset = dataset.map(process_images)"
   ]
  },
  {
   "cell_type": "code",
   "execution_count": null,
   "id": "d603f1c6",
   "metadata": {
    "scrolled": true
   },
   "outputs": [],
   "source": [
    "# Building the dataset from batches because of Out of Memory errors\n",
    "num_batches = 1 + (IMAGE_COUNT - 1) // 32\n",
    "iterator = iter(dataset)\n",
    "count = 0\n",
    "while(num_batches >= 0):\n",
    "    if (num_batches <= 500):\n",
    "        rest = num_batches\n",
    "    else:\n",
    "        rest = 500\n",
    "    num_batches -= 500\n",
    "    data = iterator.get_next()\n",
    "    for i in tqdm(range(1, rest)):\n",
    "        data = tf.concat((data, iterator.get_next()), axis=0)\n",
    "    np.save('celeba_{}.npy'.format(count), data)\n",
    "    count += 1"
   ]
  },
  {
   "cell_type": "code",
   "execution_count": null,
   "id": "73729386",
   "metadata": {},
   "outputs": [],
   "source": [
    "# Concatenating all batches into a single dataset file\n",
    "data = np.load('celeba_0.npy')\n",
    "for i in range(1, 13):\n",
    "    data = np.concatenate((data, np.load('celeba_{}.npy'.format(i))), axis=0)\n",
    "np.save(os.path.join('..', '..', 'celeba.npy'), data)"
   ]
  }
 ],
 "metadata": {
  "kernelspec": {
   "display_name": "Python 3",
   "language": "python",
   "name": "python3"
  },
  "language_info": {
   "codemirror_mode": {
    "name": "ipython",
    "version": 3
   },
   "file_extension": ".py",
   "mimetype": "text/x-python",
   "name": "python",
   "nbconvert_exporter": "python",
   "pygments_lexer": "ipython3",
   "version": "3.7.10"
  }
 },
 "nbformat": 4,
 "nbformat_minor": 5
}
