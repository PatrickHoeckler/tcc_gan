{
 "cells": [
  {
   "cell_type": "markdown",
   "metadata": {},
   "source": [
    "## Setup"
   ]
  },
  {
   "cell_type": "code",
   "execution_count": null,
   "metadata": {},
   "outputs": [],
   "source": [
    "%matplotlib qt\n",
    "from tensorflow.keras.datasets import mnist\n",
    "import matplotlib.pyplot as plt\n",
    "import numpy as np\n",
    "from pathlib import Path\n",
    "import os"
   ]
  },
  {
   "cell_type": "code",
   "execution_count": null,
   "metadata": {},
   "outputs": [],
   "source": [
    "Path('mnist_distribution').mkdir(exist_ok=True)\n",
    "os.chdir('mnist_distribution')"
   ]
  },
  {
   "cell_type": "code",
   "execution_count": null,
   "metadata": {},
   "outputs": [],
   "source": [
    "#load MNIST and concatenates train and test data\n",
    "(x_train, _), (x_test, _) = mnist.load_data()\n",
    "data = np.concatenate((x_train, x_test))"
   ]
  },
  {
   "cell_type": "markdown",
   "metadata": {},
   "source": [
    "## 1 Mean pixel value"
   ]
  },
  {
   "cell_type": "code",
   "execution_count": null,
   "metadata": {},
   "outputs": [],
   "source": [
    "mean = np.mean(data, axis=0)\n",
    "var = np.sqrt(np.var(data, axis=0))"
   ]
  },
  {
   "cell_type": "code",
   "execution_count": null,
   "metadata": {},
   "outputs": [],
   "source": [
    "fig, axs = plt.subplots(1, 2)\n",
    "\n",
    "ax = axs[0]\n",
    "ax.imshow(mean, cmap='gray', vmin=0, vmax=255, interpolation='nearest')\n",
    "ax.axis(False)\n",
    "ax.set_title('Mean')\n",
    "\n",
    "ax = axs[1]\n",
    "pcm = ax.imshow(var, cmap='gray', vmin=0, vmax=255, interpolation='nearest')\n",
    "ax.axis(False)\n",
    "ax.set_title('Variance')\n",
    "\n",
    "plt.colorbar(pcm, ax=axs, shrink=0.5)\n",
    "fig.savefig('mnist_mean_var.pdf', bbox_inches='tight', pad_inches=0)"
   ]
  },
  {
   "cell_type": "markdown",
   "metadata": {},
   "source": [
    "## 2 Pixel value probability distribution"
   ]
  },
  {
   "cell_type": "markdown",
   "metadata": {},
   "source": [
    "### 2.1 Plot single pixel distribution"
   ]
  },
  {
   "cell_type": "code",
   "execution_count": null,
   "metadata": {},
   "outputs": [],
   "source": [
    "px = 14\n",
    "py = 14\n",
    "pixels = data[:, px, py]"
   ]
  },
  {
   "cell_type": "code",
   "execution_count": null,
   "metadata": {},
   "outputs": [],
   "source": [
    "values = np.arange(256)\n",
    "probs = np.zeros(256)\n",
    "unique, count = np.unique(pixels, return_counts=True)\n",
    "for px_value, n_ocurrences in zip(unique, count):\n",
    "    probs[px_value] = 100 * n_ocurrences / data.shape[0]"
   ]
  },
  {
   "cell_type": "code",
   "execution_count": null,
   "metadata": {
    "scrolled": true
   },
   "outputs": [],
   "source": [
    "fig = plt.figure()\n",
    "plt.plot(values, probs, linewidth=1)\n",
    "plt.xlabel('Pixel Value')\n",
    "plt.ylabel('Probability (%)')\n",
    "plt.grid()\n",
    "fig.savefig('mnist_dist_pixel_%dx%d.pdf' % (px, py), bbox_inches='tight')"
   ]
  },
  {
   "cell_type": "markdown",
   "metadata": {},
   "source": [
    "### 2.1 Plotting only column distribution"
   ]
  },
  {
   "cell_type": "code",
   "execution_count": null,
   "metadata": {},
   "outputs": [],
   "source": [
    "def get_column_distribution(data, column_index):\n",
    "    columns = data[:, :, column_index]\n",
    "    total = columns.shape[0]\n",
    "    n_lines = columns.shape[1]\n",
    "    x = np.arange(n_lines)\n",
    "    y = np.arange(256)\n",
    "    z = np.zeros((256, n_lines))\n",
    "    \n",
    "    #Iterates through each pixel calculating it's probability distribution\n",
    "    for i in range(n_lines):\n",
    "        unique, count = np.unique(columns[:, i], return_counts=True)\n",
    "        for px_value, n_ocurrences in zip(unique, count):\n",
    "            z[px_value][i] = n_ocurrences / total\n",
    "    return x, y, z"
   ]
  },
  {
   "cell_type": "code",
   "execution_count": null,
   "metadata": {},
   "outputs": [],
   "source": [
    "def plot_column_distribution(x, y, z):\n",
    "    n_lines = x.shape[0]\n",
    "    X, Y = np.meshgrid(x, y)\n",
    "    Z = 100 * z\n",
    "    \n",
    "    fig = plt.figure()\n",
    "    ax = plt.axes(projection='3d')\n",
    "    ax.view_init(10, 35)\n",
    "    ax.contour3D(X, Y, Z, n_lines, cmap='viridis', zdir = 'x')\n",
    "    ax.set_xlabel('Line')\n",
    "    ax.set_ylabel('Pixel Value')\n",
    "    ax.set_zlabel('Probability (%)')\n",
    "    ax.set_zlim((0, 100))\n",
    "    return fig"
   ]
  },
  {
   "cell_type": "code",
   "execution_count": null,
   "metadata": {
    "scrolled": true
   },
   "outputs": [],
   "source": [
    "for column_index in [0, 12, 15]:\n",
    "    x, y, z = get_column_distribution(data, column_index)\n",
    "    fig = plot_column_distribution(x, y, z)\n",
    "    fig.savefig('mnist_dist_column_%d.pdf' % column_index, bbox_inches='tight', pad_inches=0)"
   ]
  },
  {
   "cell_type": "markdown",
   "metadata": {},
   "source": [
    "### 2.2 Plotting distribution with image reference"
   ]
  },
  {
   "cell_type": "code",
   "execution_count": null,
   "metadata": {},
   "outputs": [],
   "source": [
    "def high_light_mnist_column(image, column_index):\n",
    "    alpha = np.full_like(image, 50)[..., np.newaxis]\n",
    "    alpha[:, column_index, :] = 255\n",
    "    image = np.repeat(image[:, :, np.newaxis], 3, axis=2)\n",
    "    return np.append(image, alpha, axis=2)"
   ]
  },
  {
   "cell_type": "code",
   "execution_count": null,
   "metadata": {},
   "outputs": [],
   "source": [
    "def plot_column_distribution_and_highlight(x, y, z, highlight):\n",
    "    n_lines = x.shape[0]\n",
    "    X, Y = np.meshgrid(x, y)\n",
    "    Z = 100 * z\n",
    "\n",
    "    fig = plt.figure(figsize=(10, 10))\n",
    "    fig.tight_layout()\n",
    "    plt.subplot(323)\n",
    "    plt.imshow(highlight, cmap='gray', vmin=0, vmax=255, interpolation='nearest')\n",
    "    plt.axis('off')\n",
    "    \n",
    "    ax = plt.subplot(122, projection='3d')\n",
    "    ax.view_init(10, 35)\n",
    "    ax.contour3D(X, Y, Z, n_lines, cmap='viridis', zdir = 'x')\n",
    "    ax.set_xlabel('Line')\n",
    "    ax.set_ylabel('Pixel Value')\n",
    "    ax.set_zlabel('Probability (%)')\n",
    "    ax.set_zlim((0, 100))\n",
    "    return fig"
   ]
  },
  {
   "cell_type": "code",
   "execution_count": null,
   "metadata": {
    "scrolled": false
   },
   "outputs": [],
   "source": [
    "plt.ioff()\n",
    "image = data[0]\n",
    "for column_index in range(28):\n",
    "    x, y, z = get_column_distribution(data, column_index)\n",
    "    highlight = high_light_mnist_column(image, column_index)\n",
    "    fig = plot_column_distribution_and_highlight(x, y, z, highlight)\n",
    "    \n",
    "    # Save as pdf to get the nicest quality\n",
    "    fig.savefig('mnist_highlight_dist_column_%d.pdf' % column_index, bbox_inches='tight', pad_inches=0)\n",
    "    # Save as png to convert images to video or gif\n",
    "    fig.savefig('mnist_highlight_dist_column_%d.png' % column_index, bbox_inches='tight', pad_inches=0, dpi=196)\n",
    "    plt.close(fig)"
   ]
  },
  {
   "cell_type": "markdown",
   "metadata": {},
   "source": [
    "## 3 Sampling from pixel distributions"
   ]
  },
  {
   "cell_type": "code",
   "execution_count": null,
   "metadata": {},
   "outputs": [],
   "source": [
    "def get_cumulative_distribution(data):\n",
    "    total, n_lines, n_columns = data.shape\n",
    "    dist = np.zeros((n_lines, n_columns, 256))\n",
    "    \n",
    "    #Iterates through each pixel calculating it's cumulative probability distribution\n",
    "    for i in range(n_lines):\n",
    "        for j in range(n_columns):\n",
    "            values = dist[i, j, :]\n",
    "            unique, count = np.unique(data[:, i, j], return_counts=True)\n",
    "            for px_value, n_ocurrences in zip(unique, count):\n",
    "                values[px_value] = n_ocurrences\n",
    "            for px_value in range(1, 256):\n",
    "                values[px_value] += values[px_value - 1]\n",
    "            values /= total\n",
    "    return dist"
   ]
  },
  {
   "cell_type": "code",
   "execution_count": null,
   "metadata": {},
   "outputs": [],
   "source": [
    "def sample_dist(dist):\n",
    "    p = np.random.uniform()\n",
    "    return np.searchsorted(dist, p)"
   ]
  },
  {
   "cell_type": "code",
   "execution_count": null,
   "metadata": {},
   "outputs": [],
   "source": [
    "dist = get_cumulative_distribution(data)"
   ]
  },
  {
   "cell_type": "code",
   "execution_count": null,
   "metadata": {},
   "outputs": [],
   "source": [
    "SEED = 279923  # https://youtu.be/nWSFlqBOgl8?t=86  -  I love this song\n",
    "np.random.seed(SEED)\n",
    "\n",
    "images = np.zeros((3, 28, 28))\n",
    "for img in images:\n",
    "    for i in range(28):\n",
    "        for j in range(28):\n",
    "            img[i, j] = sample_dist(dist[i,j])"
   ]
  },
  {
   "cell_type": "code",
   "execution_count": null,
   "metadata": {},
   "outputs": [],
   "source": [
    "fig = plt.figure()\n",
    "for i, img in enumerate(images):\n",
    "    plt.subplot(1, 3, i + 1)\n",
    "    plt.imshow(img, cmap='gray', vmin=0, vmax=255, interpolation='nearest')\n",
    "    plt.axis(False)\n",
    "fig.savefig('mnist_simple_samples.pdf', bbox_inches='tight', pad_inches=0)"
   ]
  }
 ],
 "metadata": {
  "kernelspec": {
   "display_name": "Python 3",
   "language": "python",
   "name": "python3"
  },
  "language_info": {
   "codemirror_mode": {
    "name": "ipython",
    "version": 3
   },
   "file_extension": ".py",
   "mimetype": "text/x-python",
   "name": "python",
   "nbconvert_exporter": "python",
   "pygments_lexer": "ipython3",
   "version": "3.7.10"
  }
 },
 "nbformat": 4,
 "nbformat_minor": 4
}
