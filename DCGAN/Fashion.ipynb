{
 "cells": [
  {
   "cell_type": "markdown",
   "id": "96cd9c5c",
   "metadata": {},
   "source": [
    "## Setup"
   ]
  },
  {
   "cell_type": "code",
   "execution_count": null,
   "id": "e535a98c",
   "metadata": {},
   "outputs": [],
   "source": [
    "%matplotlib qt\n",
    "import matplotlib.pyplot as plt\n",
    "import tensorflow as tf\n",
    "import tensorflow_gan as tfgan\n",
    "import numpy as np\n",
    "import os, sys\n",
    "from tqdm.notebook import tqdm\n",
    "from pathlib import Path\n",
    "\n",
    "sys.path.append( os.path.abspath('..') )\n",
    "import utils"
   ]
  },
  {
   "cell_type": "code",
   "execution_count": null,
   "id": "6e213076",
   "metadata": {},
   "outputs": [],
   "source": [
    "Path('Fashion').mkdir(exist_ok=True)\n",
    "os.chdir('Fashion')"
   ]
  },
  {
   "cell_type": "code",
   "execution_count": null,
   "id": "5054c26f",
   "metadata": {},
   "outputs": [],
   "source": [
    "(x_train, _), (x_test, _) = tf.keras.datasets.fashion_mnist.load_data()\n",
    "data = np.concatenate((x_train, x_test))\n",
    "data = (data.astype('float32') - 127.5) / 127.5  # normalize to [-1, 1]\n",
    "data = np.expand_dims(data, axis=-1)  # add channels dimension\n",
    "\n",
    "assert data.shape == (70000, 28, 28, 1)  # (batch, height, width, channel)"
   ]
  },
  {
   "cell_type": "markdown",
   "id": "3382cbc3",
   "metadata": {},
   "source": [
    "## 1 Models"
   ]
  },
  {
   "cell_type": "markdown",
   "id": "3409e287",
   "metadata": {},
   "source": [
    "### 1.1 Architecture"
   ]
  },
  {
   "cell_type": "code",
   "execution_count": null,
   "id": "b57a3d62",
   "metadata": {},
   "outputs": [],
   "source": [
    "def generator_model_transp_conv(latent_dims):\n",
    "    return tf.keras.Sequential([\n",
    "        tf.keras.layers.Dense(7*7*256, input_shape=(latent_dims,)),\n",
    "        tf.keras.layers.LeakyReLU(),\n",
    "        tf.keras.layers.BatchNormalization(),\n",
    "        tf.keras.layers.Reshape((7, 7, 256)),\n",
    "\n",
    "        tf.keras.layers.Conv2D(128, kernel_size=5, strides=1, padding='same'),\n",
    "        tf.keras.layers.LeakyReLU(),\n",
    "        tf.keras.layers.BatchNormalization(),\n",
    "\n",
    "        tf.keras.layers.Conv2DTranspose(64, kernel_size=5, strides=2, padding='same'),\n",
    "        tf.keras.layers.LeakyReLU(),\n",
    "        tf.keras.layers.BatchNormalization(),\n",
    "\n",
    "        tf.keras.layers.Conv2DTranspose(1, kernel_size=5, strides=2, padding='same', activation='tanh')\n",
    "    ])"
   ]
  },
  {
   "cell_type": "code",
   "execution_count": null,
   "id": "6b75d081",
   "metadata": {},
   "outputs": [],
   "source": [
    "def generator_model_upsample(latent_dims, interpolation):\n",
    "    return tf.keras.Sequential([\n",
    "        tf.keras.layers.Dense(7*7*256, input_shape=(latent_dims,)),\n",
    "        tf.keras.layers.LeakyReLU(),\n",
    "        tf.keras.layers.BatchNormalization(),\n",
    "        tf.keras.layers.Reshape((7, 7, 256)),\n",
    "    \n",
    "        tf.keras.layers.Conv2D(128, kernel_size=5, strides=1, padding='same'),\n",
    "        tf.keras.layers.LeakyReLU(),\n",
    "        tf.keras.layers.BatchNormalization(),\n",
    "        \n",
    "        tf.keras.layers.UpSampling2D(size=2, interpolation=interpolation),\n",
    "        tf.keras.layers.Conv2D(64, kernel_size=5, strides=1, padding='same'),\n",
    "        tf.keras.layers.LeakyReLU(),\n",
    "        tf.keras.layers.BatchNormalization(),\n",
    "        \n",
    "        tf.keras.layers.UpSampling2D(size=2, interpolation=interpolation),\n",
    "        tf.keras.layers.Conv2D(1, kernel_size=5, strides=1, padding='same', activation='tanh')\n",
    "    ])"
   ]
  },
  {
   "cell_type": "code",
   "execution_count": null,
   "id": "95c1d8b0",
   "metadata": {},
   "outputs": [],
   "source": [
    "def discriminator_model():\n",
    "    return tf.keras.Sequential([\n",
    "        tf.keras.layers.Conv2D(64, kernel_size=5, strides=2, padding='same', input_shape=(28,28,1)),\n",
    "        tf.keras.layers.LeakyReLU(),\n",
    "        tf.keras.layers.Dropout(0.3),\n",
    "\n",
    "        tf.keras.layers.Conv2D(128, kernel_size=5, strides=2, padding='same'),\n",
    "        tf.keras.layers.LeakyReLU(),\n",
    "        tf.keras.layers.Dropout(0.3),\n",
    "\n",
    "        tf.keras.layers.Flatten(),\n",
    "        tf.keras.layers.Dense(1)\n",
    "    ])"
   ]
  },
  {
   "cell_type": "markdown",
   "id": "fe7e8b57",
   "metadata": {},
   "source": [
    "### 1.2 Losses"
   ]
  },
  {
   "cell_type": "markdown",
   "id": "5b1f8296",
   "metadata": {},
   "source": [
    "The binary cross entropy (BCE) between $y$ and $\\hat{y}$ is calculated as:\n",
    "\n",
    "$$\n",
    "    \\mathrm{BCE}(y, \\hat{y}) = - y \\log\\left(\\hat{y}\\right) - (1-y) \\log\\left(1 - \\hat{y}\\right)\n",
    "$$"
   ]
  },
  {
   "cell_type": "code",
   "execution_count": null,
   "id": "db60d5a9",
   "metadata": {},
   "outputs": [],
   "source": [
    "cross_entropy = tf.keras.losses.BinaryCrossentropy(from_logits=True)"
   ]
  },
  {
   "cell_type": "markdown",
   "id": "c1fb4085",
   "metadata": {},
   "source": [
    "The generator tries to maximize the chance of the discriminator being wrong. This is equivalent of trying to minimize the following loss function:\n",
    "\n",
    "$$\n",
    "    J^{(G)} = -\\log\\bigl(D\\bigl(G(z)\\bigr)\\bigr)\n",
    "$$"
   ]
  },
  {
   "cell_type": "code",
   "execution_count": null,
   "id": "db3fcad4",
   "metadata": {},
   "outputs": [],
   "source": [
    "def generator_loss(fake_output):\n",
    "    return cross_entropy(tf.ones_like(fake_output), fake_output)"
   ]
  },
  {
   "cell_type": "markdown",
   "id": "ace7e009",
   "metadata": {},
   "source": [
    "The discriminator tries to correctly classify real data as real and fake data as fake. This is equivalent to minimizing the following loss function:\n",
    "\n",
    "$$\n",
    "    J^{(D)} = -\\log\\bigr(D(x)\\bigl) - \\log\\bigl(1 - D\\bigl(G(z)\\bigr)\\bigr)\n",
    "$$\n",
    "\n",
    "Here we scale down the loss by a factor of $\\;0.5$"
   ]
  },
  {
   "cell_type": "code",
   "execution_count": null,
   "id": "abb44540",
   "metadata": {},
   "outputs": [],
   "source": [
    "def discriminator_loss(real_output, fake_output):\n",
    "    real_loss = cross_entropy(tf.ones_like(real_output), real_output)\n",
    "    fake_loss = cross_entropy(tf.zeros_like(fake_output), fake_output)\n",
    "    return 0.5 * (real_loss + fake_loss)"
   ]
  },
  {
   "cell_type": "markdown",
   "id": "c86535b5",
   "metadata": {},
   "source": [
    "## 2 Training"
   ]
  },
  {
   "cell_type": "markdown",
   "id": "3f6317e7",
   "metadata": {},
   "source": [
    "### 2.1 Main functions"
   ]
  },
  {
   "cell_type": "code",
   "execution_count": null,
   "id": "8e5271c9",
   "metadata": {},
   "outputs": [],
   "source": [
    "def discriminator_train_step(generator, discriminator, images, latent_dims):\n",
    "    noise = tf.random.normal([images.shape[0], latent_dims])\n",
    "    with tf.GradientTape() as disc_tape:\n",
    "        generated_imgs = generator(noise, training=True)\n",
    "        real_output = discriminator(images, training=True)\n",
    "        fake_output = discriminator(generated_imgs, training=True)\n",
    "        loss_D = discriminator_loss(real_output, fake_output)\n",
    "    \n",
    "    grads_D = disc_tape.gradient(loss_D, discriminator.trainable_variables)\n",
    "    discriminator.optimizer.apply_gradients(zip(grads_D, discriminator.trainable_variables))"
   ]
  },
  {
   "cell_type": "code",
   "execution_count": null,
   "id": "c9ed4cd1",
   "metadata": {},
   "outputs": [],
   "source": [
    "def generator_train_step(generator, discriminator, batch_size, latent_dims):\n",
    "    noise = tf.random.normal([batch_size, latent_dims])\n",
    "    with tf.GradientTape() as gen_tape:\n",
    "        generated_imgs = generator(noise, training=True)\n",
    "        fake_output = discriminator(generated_imgs, training=True)\n",
    "        loss_G = generator_loss(fake_output)\n",
    "    \n",
    "    grads_G = gen_tape.gradient(loss_G, generator.trainable_variables)\n",
    "    generator.optimizer.apply_gradients(zip(grads_G, generator.trainable_variables))"
   ]
  },
  {
   "cell_type": "code",
   "execution_count": null,
   "id": "d1dae408",
   "metadata": {},
   "outputs": [],
   "source": [
    "def train(generator, discriminator, data, epochs, batch_size=32, callbacks=None):\n",
    "    latent_dims = generator.input_shape[1]\n",
    "    num_batches = 1 + (data.shape[0] - 1) // batch_size\n",
    "    dataset = tf.data.Dataset.from_tensor_slices(data).shuffle(data.shape[0]).batch(batch_size)\n",
    "    \n",
    "    generator_step = tf.function(generator_train_step)\n",
    "    discriminator_step = tf.function(discriminator_train_step)\n",
    "    for epoch in tqdm(range(epochs)):\n",
    "        for c in callbacks:\n",
    "            c.on_epoch_begin(epoch=epoch + 1, generator=generator, discriminator=discriminator)\n",
    "        \n",
    "        for batch in tqdm(dataset, leave=False, total=num_batches):\n",
    "            discriminator_step(generator, discriminator, batch, latent_dims)\n",
    "            generator_step(generator, discriminator, batch_size, latent_dims)\n",
    "        \n",
    "        for c in callbacks:\n",
    "            c.on_epoch_end(epoch=epoch + 1, generator=generator, discriminator=discriminator)"
   ]
  },
  {
   "cell_type": "markdown",
   "id": "13cf4579",
   "metadata": {},
   "source": [
    "### 2.2 Metrics classifier"
   ]
  },
  {
   "cell_type": "markdown",
   "id": "03031155",
   "metadata": {},
   "source": [
    "Loading the classifier that will be used to calculate the *Classifier Score* (CS) and *Fréchet Classifier Distance* (FCD). \\\n",
    "The features of the real data are also precalculated to avoid doing that for each epoch."
   ]
  },
  {
   "cell_type": "code",
   "execution_count": null,
   "id": "044d90a2",
   "metadata": {},
   "outputs": [],
   "source": [
    "classifier = tf.keras.models.load_model('../../Classifiers/fashion.h5')\n",
    "feature_layer = classifier.get_layer('features')\n",
    "logits_layer = classifier.get_layer('logits')\n",
    "precalculated_features = utils.fn.calculate_features(classifier, feature_layer, data)"
   ]
  },
  {
   "cell_type": "markdown",
   "id": "c91ca61c",
   "metadata": {},
   "source": [
    "### 2.3 Hyperparameter Testing"
   ]
  },
  {
   "cell_type": "markdown",
   "id": "88f10559",
   "metadata": {},
   "source": [
    "These were the hyperparameters tested for the final document. Training all of them simultaneously may take a long time, consider commenting out some options to run the tests individually."
   ]
  },
  {
   "cell_type": "code",
   "execution_count": null,
   "id": "b5db756a",
   "metadata": {},
   "outputs": [],
   "source": [
    "hparams_list = [\n",
    "    {'batch_size': 16, 'latent_dims': 16, 'upsample': 'TrpConv'},\n",
    "    {'batch_size': 16, 'latent_dims': 32, 'upsample': 'TrpConv'},\n",
    "    {'batch_size': 32, 'latent_dims': 16, 'upsample': 'TrpConv'},\n",
    "    {'batch_size': 32, 'latent_dims': 32, 'upsample': 'TrpConv'},\n",
    "    \n",
    "    {'batch_size':  8, 'latent_dims': 32, 'upsample': 'nearest'},\n",
    "    {'batch_size': 16, 'latent_dims': 32, 'upsample': 'nearest'},\n",
    "    {'batch_size': 32, 'latent_dims': 32, 'upsample': 'nearest'},\n",
    "    \n",
    "    {'batch_size':  8, 'latent_dims': 32, 'upsample': 'bilinear'},\n",
    "    {'batch_size': 16, 'latent_dims': 16, 'upsample': 'bilinear'},\n",
    "    {'batch_size': 16, 'latent_dims': 32, 'upsample': 'bilinear'},\n",
    "    {'batch_size': 32, 'latent_dims': 16, 'upsample': 'bilinear'},\n",
    "    {'batch_size': 32, 'latent_dims': 32, 'upsample': 'bilinear'},\n",
    "    {'batch_size': 64, 'latent_dims': 32, 'upsample': 'bilinear'}\n",
    "]"
   ]
  },
  {
   "cell_type": "code",
   "execution_count": null,
   "id": "6ff29c73",
   "metadata": {
    "scrolled": false
   },
   "outputs": [],
   "source": [
    "for hparams in hparams_list:\n",
    "    dirname = 'BS{}_LDIM{}_{}'.format(\n",
    "        hparams['batch_size'],\n",
    "        hparams['latent_dims'],\n",
    "        hparams['upsample'].upper()\n",
    "    )\n",
    "    Path(dirname).mkdir(exist_ok=True)\n",
    "    \n",
    "    ## Models\n",
    "    if hparams['upsample'] is 'TrpConv':\n",
    "        generator = generator_model_transp_conv(hparams['latent_dims'])\n",
    "    else:\n",
    "        generator = generator_model_upsample(hparams['latent_dims'], hparams['upsample'])\n",
    "    generator.optimizer = tf.keras.optimizers.Adam(1e-4)\n",
    "\n",
    "    discriminator = discriminator_model()\n",
    "    discriminator.optimizer = tf.keras.optimizers.Adam(1e-4)\n",
    "    \n",
    "    ## Callbacks\n",
    "    timer = utils.callback.TimerCallback()\n",
    "    save_samples = utils.callback.SaveSamplesCallback(\n",
    "        path_format=os.path.join(dirname, 'epoch-{}'),\n",
    "        inputs=tf.random.normal((10*10, hparams['latent_dims'])),\n",
    "        n_cols=10,\n",
    "        savefig_kwargs={'bbox_inches': 'tight', 'pad_inches': 0, 'dpi': 192},\n",
    "        imshow_kwargs={'cmap': 'gray_r', 'vmin': -1, 'vmax': 1}\n",
    "    )\n",
    "    metrics = utils.callback.MetricsCallback(\n",
    "        generator=generator,\n",
    "        classifier=classifier,\n",
    "        latent_dims=hparams['latent_dims'],\n",
    "        feature_layer=feature_layer,\n",
    "        logits_layer=logits_layer,\n",
    "        precalculated_features=precalculated_features,\n",
    "        save_after=5, save_to=os.path.join(dirname, 'best.h5')\n",
    "    )\n",
    "    \n",
    "    ## Train and save results\n",
    "    train(\n",
    "        generator, discriminator, data, epochs=30,\n",
    "        batch_size=hparams['batch_size'],\n",
    "        callbacks=[timer, save_samples, metrics]\n",
    "    )\n",
    "    \n",
    "    metrics_obj = metrics.get_metrics()\n",
    "    metrics_obj['time'] = timer.get_time()\n",
    "    utils.fn.update_json_log(os.path.join(dirname, 'log.json'), metrics_obj)\n",
    "    \n",
    "    generator.save    (os.path.join(dirname, 'generator.h5'    ), overwrite=True, save_format='h5')\n",
    "    discriminator.save(os.path.join(dirname, 'discriminator.h5'), overwrite=True, save_format='h5')"
   ]
  },
  {
   "cell_type": "markdown",
   "id": "3921fc72",
   "metadata": {},
   "source": [
    "\\\n",
    "In windows the command bellow is used to turn down the machine after the training finishes, very useful if you wanna let the computer running while you go to sleep :)"
   ]
  },
  {
   "cell_type": "code",
   "execution_count": null,
   "id": "dbe27611",
   "metadata": {},
   "outputs": [],
   "source": [
    "# !shutdown /s /t 60"
   ]
  }
 ],
 "metadata": {
  "kernelspec": {
   "display_name": "Python 3",
   "language": "python",
   "name": "python3"
  },
  "language_info": {
   "codemirror_mode": {
    "name": "ipython",
    "version": 3
   },
   "file_extension": ".py",
   "mimetype": "text/x-python",
   "name": "python",
   "nbconvert_exporter": "python",
   "pygments_lexer": "ipython3",
   "version": "3.7.10"
  }
 },
 "nbformat": 4,
 "nbformat_minor": 5
}
